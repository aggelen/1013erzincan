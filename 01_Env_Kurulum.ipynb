{
 "cells": [
  {
   "cell_type": "markdown",
   "id": "e38d4bbc-bf7a-4dc9-89fd-8e22e768e056",
   "metadata": {},
   "source": [
    "# Anaconda Nedir?\n",
    "\n",
    "Anaconda, Python ve R programlama dillerini destekleyen bir açık kaynak yazılım paketidir. Veri bilimi, yapay zeka ve makine öğrenimi gibi alanlarda kullanılan çok sayıda kütüphaneyi ve aracı içeren bir platformdur. Anaconda, bu araçların ve kütüphanelerin kolayca kurulmasını, yönetilmesini ve güncellenmesini sağlar.\n",
    "\n",
    "Anaconda'nın İçerdiği Araçlar:\n",
    "\n",
    "    Python ve R dillerini kullanabilme.\n",
    "    Jupyter Notebook gibi interaktif çalışma ortamları.\n",
    "    Pandas, NumPy, SciPy, Matplotlib gibi veri analizi ve görselleştirme kütüphaneleri.\n",
    "    TensorFlow, Scikit-learn, Keras gibi makine öğrenimi kütüphaneleri.\n",
    "\n",
    "Anaconda'nın Avantajları:\n",
    "\n",
    "    Kolay kurulum: Birçok kütüphane ve araç tek bir paket olarak sunulur.\n",
    "    Çoklu ortam yönetimi: Farklı projeler için bağımsız çalışma ortamları oluşturulabilir.\n",
    "    Geniş ekosistem: Veri bilimi için gerekli olan birçok araç ve kütüphane entegre bir şekilde sunulur."
   ]
  },
  {
   "cell_type": "markdown",
   "id": "a7136650-d5d6-43a5-9688-0cd7fe0777f0",
   "metadata": {},
   "source": [
    "env Nedir ve Ne İşe Yarar?\n",
    "\n",
    "Anaconda içinde env (environment - ortam) kavramı, belirli bir proje veya görev için bağımsız bir yazılım ortamı oluşturmaya yarar. Bu ortamlar, farklı projelerde farklı sürümlere ihtiyaç duyulan kütüphaneleri ve yazılımları izole bir şekilde yönetmenize yardımcı olur.\n",
    "\n",
    "Bir ortam oluşturduğunuzda, o ortamda yalnızca belirli bir Python sürümü veya belirli kütüphaneler bulunur. Bu sayede, projelerde kullanılan kütüphanelerin ve Python sürümlerinin birbirine karışması engellenir.\n",
    "\n",
    "Örnek Kullanım Senaryoları:\n",
    "\n",
    "    Bir projede Python 3.8 kullanırken, başka bir projede Python 3.7 kullanmak.\n",
    "    Farklı projelerde farklı kütüphane sürümlerine ihtiyaç duyulduğunda.\n",
    "    Projeler arasında bağımsız bir çalışma ortamı oluşturarak, yazılımın çakışmasını önlemek."
   ]
  },
  {
   "cell_type": "markdown",
   "id": "7cf6f089-ee6f-4a44-a1d1-d1a62a07b311",
   "metadata": {},
   "source": [
    "Anaconda Nasıl Kurulur?\n",
    "\n",
    "Anaconda'nın kurulumu oldukça basittir ve aşağıdaki adımları takip ederek kolayca kurulabilir:\n",
    "\n",
    "    Anaconda'yı İndirin:\n",
    "        Anaconda'nın resmi web sitesine gidin: https://www.anaconda.com/products/distribution\n",
    "        İhtiyacınıza göre Python 3.x sürümünü indirin (genellikle en son sürüm tercih edilir).\n",
    "        İndirdiğiniz dosyayı çalıştırarak kurulumu başlatın.\n",
    "\n",
    "    Kurulum Adımları:\n",
    "        Kurulum sırasında, \"Add Anaconda to my PATH environment variable\" seçeneğini işaretlerseniz, terminal veya komut istemcisinden Anaconda'ya erişebilirsiniz.\n",
    "        Kurulum tamamlandıktan sonra, Anaconda Navigator veya Anaconda Prompt üzerinden Anaconda'ya erişebilirsiniz.\n",
    "\n",
    "    Anaconda'nın Çalışıp Çalışmadığını Kontrol Etme:\n",
    "        Terminal veya Anaconda Prompt açın ve şu komutu yazın:\n",
    "\n",
    "conda --version\n",
    "\n",
    "Bu komut, Anaconda'nın kurulu olduğunu ve doğru çalıştığını gösterir."
   ]
  },
  {
   "cell_type": "markdown",
   "id": "907a9b90-b8b9-4e9d-8972-eb49581780ca",
   "metadata": {},
   "source": [
    "Bir env Nasıl Oluşturulur?\n",
    "\n",
    "Anaconda'da bir ortam oluşturmak için şu adımları takip edebilirsiniz:\n",
    "\n",
    "    Yeni Bir Ortam Oluşturun:\n",
    "\n",
    "conda create --name myenv python=3.8\n",
    "\n",
    "Burada myenv yeni oluşturduğunuz ortamın adıdır ve python=3.8 Python sürümünü belirler.\n",
    "\n",
    "Ortamı Aktif Edin:\n",
    "\n",
    "conda activate myenv\n",
    "\n",
    "Bu komutla oluşturduğunuz ortamı aktif hale getirirsiniz.\n",
    "\n",
    "Ortamı Deaktif Edin:\n",
    "\n",
    "conda deactivate\n",
    "\n",
    "Bu komutla aktif ortamdan çıkış yapabilirsiniz.\n",
    "\n",
    "Bir Ortama Kütüphane Kurun: Aktif bir ortamdayken, ihtiyaç duyduğunuz kütüphaneleri şu şekilde kurabilirsiniz:\n",
    "\n",
    "    conda install numpy pandas\n",
    "\n",
    "5. Neden Anaconda Kullanmalıyız?\n",
    "\n",
    "Anaconda, veri bilimi ve makine öğrenimi projelerinde aşağıdaki nedenlerden dolayı tercih edilir:\n",
    "\n",
    "    Kolay kütüphane yönetimi: İhtiyaç duyduğunuz kütüphaneleri kolayca kurabilir ve güncelleyebilirsiniz.\n",
    "    Projelerde izolasyon: Her proje için farklı ortamlar oluşturarak, projeler arası bağımlılıkları yönetebilirsiniz.\n",
    "    Yaygın kullanılan araçlar: Veri analizi ve makine öğrenimi için gerekli olan araçların hepsi Anaconda içinde mevcuttur, bu da size zaman kazandırır.\n",
    "    Verimli çalıştırma: Jupyter Notebook gibi araçlarla hızlıca prototipler geliştirebilir, analizler yapabilirsiniz."
   ]
  },
  {
   "cell_type": "code",
   "execution_count": null,
   "id": "19cc0ad7-62ba-41f2-80f1-499b8a3cc4c8",
   "metadata": {},
   "outputs": [],
   "source": []
  }
 ],
 "metadata": {
  "kernelspec": {
   "display_name": "Python 3 (ipykernel)",
   "language": "python",
   "name": "python3"
  },
  "language_info": {
   "codemirror_mode": {
    "name": "ipython",
    "version": 3
   },
   "file_extension": ".py",
   "mimetype": "text/x-python",
   "name": "python",
   "nbconvert_exporter": "python",
   "pygments_lexer": "ipython3",
   "version": "3.11.7"
  }
 },
 "nbformat": 4,
 "nbformat_minor": 5
}
