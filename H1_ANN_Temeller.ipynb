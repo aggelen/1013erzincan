{
 "cells": [
  {
   "cell_type": "markdown",
   "id": "e369a995-bedb-4d49-969e-756b469fb0b3",
   "metadata": {},
   "source": [
    "# Erzincan 1008 Toplantıları [#H1]\n",
    "1. jenerasyon (gen1), tamamen bağlı (fully connected) bir yapay sinir ağı (ANN) modelinin anlaşılması ve Pytorch ile gerçeklenmesini amaçlıyoruz.\n",
    "\n",
    "!!: Bu not defterleri sürekli iyileştirilmektedir. Bu nedenle ulaştığınız içerik geçici bir süreliğine eksik/bozuk/yanlış görünebilir."
   ]
  },
  {
   "cell_type": "markdown",
   "id": "1e90a990-5a01-412f-9f0c-4aa32adc310f",
   "metadata": {},
   "source": [
    "## Fonksiyonların Yakın Değerlerini Üretmek için Yapay Sinir Ağları\n",
    "Function Approximator: Herhangi bir fonksiyonu hesaplamadan yakın değerler üreten bir algoritma veya model\n",
    "\n",
    "Amacımızın iki veri kümesi arasındaki ilişkiyi modellemek olduğunu varsayalım. Bu ilişki matematiksel olarak ifade ediliyor veya edilemiyor olabilir. Bu senaryoda, birden fazla katmana sahip bir yapay sinir ağı modeli giriş ve çıkış verisi arasındaki ilişkiyi modelleyebilir.\n",
    "\n",
    "Örneğin, $$f(t) = t^2$$ gibi bir fonksiyonda giriş verisi t ile çıkış verisi f(t) arasındaki ilişki matematiksel olarak ifade edilebilir. Herhangi bir $$t$$ değerinin karşılığı olan $$f(t)$$ değerini hesaplamak için değeri kendisi ile çarpmak yeterlidir. \n",
    "\n",
    "Bu basit ilişki bir sinir ağı model tarafından öğrenilebilir mi? Rastgele sayıda seçilmiş ve katmanlar halinde bağlanmış birkaç yapay sinir hücresinden oluşan bir ağ modeli bu ilişkiyi öğrenerek $$f(t)$$ fonksiyonu için yakın değerler üretebilir.\n"
   ]
  },
  {
   "cell_type": "markdown",
   "id": "a32d20b9-bdb0-49a3-b750-f387547d0ca4",
   "metadata": {},
   "source": [
    "## Tamamen Bağlı Bir Ağ Modeli\n",
    "Bu kısımda ANN açıklanacak."
   ]
  },
  {
   "cell_type": "markdown",
   "id": "20af3b56-b86d-4780-83a6-58cbf4f40100",
   "metadata": {},
   "source": [
    "## Veri Üretmek\n",
    "\n",
    "güncellenecek."
   ]
  },
  {
   "cell_type": "code",
   "execution_count": 1,
   "id": "f61bc849-fb3b-4624-8b84-fa31312dbc93",
   "metadata": {},
   "outputs": [],
   "source": [
    "import torch\n",
    "import pandas as pd\n",
    "from torch import nn\n",
    "from torch.utils.data import DataLoader\n",
    "from torchvision import datasets\n",
    "from torchvision.transforms import ToTensor\n",
    "from torch.utils.data import Dataset\n",
    "\n",
    "df= pd.read_csv(r\"data/heart_attack dataset/heart.csv\")\n"
   ]
  },
  {
   "cell_type": "code",
   "execution_count": 2,
   "id": "8f6d8f1e-2a50-44fd-a084-275f47a48698",
   "metadata": {},
   "outputs": [
    {
     "data": {
      "text/html": [
       "<div>\n",
       "<style scoped>\n",
       "    .dataframe tbody tr th:only-of-type {\n",
       "        vertical-align: middle;\n",
       "    }\n",
       "\n",
       "    .dataframe tbody tr th {\n",
       "        vertical-align: top;\n",
       "    }\n",
       "\n",
       "    .dataframe thead th {\n",
       "        text-align: right;\n",
       "    }\n",
       "</style>\n",
       "<table border=\"1\" class=\"dataframe\">\n",
       "  <thead>\n",
       "    <tr style=\"text-align: right;\">\n",
       "      <th></th>\n",
       "      <th>age</th>\n",
       "      <th>sex</th>\n",
       "      <th>cp</th>\n",
       "      <th>trtbps</th>\n",
       "      <th>chol</th>\n",
       "      <th>fbs</th>\n",
       "      <th>restecg</th>\n",
       "      <th>thalachh</th>\n",
       "      <th>exng</th>\n",
       "      <th>oldpeak</th>\n",
       "      <th>slp</th>\n",
       "      <th>caa</th>\n",
       "      <th>thall</th>\n",
       "      <th>output</th>\n",
       "    </tr>\n",
       "  </thead>\n",
       "  <tbody>\n",
       "    <tr>\n",
       "      <th>0</th>\n",
       "      <td>63</td>\n",
       "      <td>1</td>\n",
       "      <td>3</td>\n",
       "      <td>145</td>\n",
       "      <td>233</td>\n",
       "      <td>1</td>\n",
       "      <td>0</td>\n",
       "      <td>150</td>\n",
       "      <td>0</td>\n",
       "      <td>2.3</td>\n",
       "      <td>0</td>\n",
       "      <td>0</td>\n",
       "      <td>1</td>\n",
       "      <td>1</td>\n",
       "    </tr>\n",
       "    <tr>\n",
       "      <th>1</th>\n",
       "      <td>37</td>\n",
       "      <td>1</td>\n",
       "      <td>2</td>\n",
       "      <td>130</td>\n",
       "      <td>250</td>\n",
       "      <td>0</td>\n",
       "      <td>1</td>\n",
       "      <td>187</td>\n",
       "      <td>0</td>\n",
       "      <td>3.5</td>\n",
       "      <td>0</td>\n",
       "      <td>0</td>\n",
       "      <td>2</td>\n",
       "      <td>1</td>\n",
       "    </tr>\n",
       "    <tr>\n",
       "      <th>2</th>\n",
       "      <td>41</td>\n",
       "      <td>0</td>\n",
       "      <td>1</td>\n",
       "      <td>130</td>\n",
       "      <td>204</td>\n",
       "      <td>0</td>\n",
       "      <td>0</td>\n",
       "      <td>172</td>\n",
       "      <td>0</td>\n",
       "      <td>1.4</td>\n",
       "      <td>2</td>\n",
       "      <td>0</td>\n",
       "      <td>2</td>\n",
       "      <td>1</td>\n",
       "    </tr>\n",
       "    <tr>\n",
       "      <th>3</th>\n",
       "      <td>56</td>\n",
       "      <td>1</td>\n",
       "      <td>1</td>\n",
       "      <td>120</td>\n",
       "      <td>236</td>\n",
       "      <td>0</td>\n",
       "      <td>1</td>\n",
       "      <td>178</td>\n",
       "      <td>0</td>\n",
       "      <td>0.8</td>\n",
       "      <td>2</td>\n",
       "      <td>0</td>\n",
       "      <td>2</td>\n",
       "      <td>1</td>\n",
       "    </tr>\n",
       "    <tr>\n",
       "      <th>4</th>\n",
       "      <td>57</td>\n",
       "      <td>0</td>\n",
       "      <td>0</td>\n",
       "      <td>120</td>\n",
       "      <td>354</td>\n",
       "      <td>0</td>\n",
       "      <td>1</td>\n",
       "      <td>163</td>\n",
       "      <td>1</td>\n",
       "      <td>0.6</td>\n",
       "      <td>2</td>\n",
       "      <td>0</td>\n",
       "      <td>2</td>\n",
       "      <td>1</td>\n",
       "    </tr>\n",
       "  </tbody>\n",
       "</table>\n",
       "</div>"
      ],
      "text/plain": [
       "   age  sex  cp  trtbps  chol  fbs  restecg  thalachh  exng  oldpeak  slp  \\\n",
       "0   63    1   3     145   233    1        0       150     0      2.3    0   \n",
       "1   37    1   2     130   250    0        1       187     0      3.5    0   \n",
       "2   41    0   1     130   204    0        0       172     0      1.4    2   \n",
       "3   56    1   1     120   236    0        1       178     0      0.8    2   \n",
       "4   57    0   0     120   354    0        1       163     1      0.6    2   \n",
       "\n",
       "   caa  thall  output  \n",
       "0    0      1       1  \n",
       "1    0      2       1  \n",
       "2    0      2       1  \n",
       "3    0      2       1  \n",
       "4    0      2       1  "
      ]
     },
     "execution_count": 2,
     "metadata": {},
     "output_type": "execute_result"
    }
   ],
   "source": [
    "df.head()"
   ]
  },
  {
   "cell_type": "code",
   "execution_count": 3,
   "id": "685b820a-d66d-4a87-96ef-ef3dbd2750dc",
   "metadata": {},
   "outputs": [
    {
     "name": "stdout",
     "output_type": "stream",
     "text": [
      "   age  sex  cp  trtbps  chol  fbs  restecg  thalachh  exng  oldpeak  slp  \\\n",
      "0   63    1   3     145   233    1        0       150     0      2.3    0   \n",
      "1   37    1   2     130   250    0        1       187     0      3.5    0   \n",
      "2   41    0   1     130   204    0        0       172     0      1.4    2   \n",
      "3   56    1   1     120   236    0        1       178     0      0.8    2   \n",
      "4   57    0   0     120   354    0        1       163     1      0.6    2   \n",
      "\n",
      "   caa  thall  \n",
      "0    0      1  \n",
      "1    0      2  \n",
      "2    0      2  \n",
      "3    0      2  \n",
      "4    0      2  \n",
      "0    1\n",
      "1    1\n",
      "2    1\n",
      "3    1\n",
      "4    1\n",
      "Name: output, dtype: int64\n"
     ]
    }
   ],
   "source": [
    "# Bağımsız değişkenler (X) ve bağımlı değişkenler (y) olarak ayırma\n",
    "X = df.iloc[:, :-1]  # Tüm sütunlar, son sütun hariç\n",
    "y = df.iloc[:, -1]   # Sadece son sütun\n",
    "\n",
    "# Kontrol\n",
    "print(X.head())\n",
    "print(y.head())\n"
   ]
  },
  {
   "cell_type": "code",
   "execution_count": 4,
   "id": "4232d807-e9a6-4564-92f5-4308336e9b4b",
   "metadata": {},
   "outputs": [
    {
     "name": "stdout",
     "output_type": "stream",
     "text": [
      "age         0\n",
      "sex         0\n",
      "cp          0\n",
      "trtbps      0\n",
      "chol        0\n",
      "fbs         0\n",
      "restecg     0\n",
      "thalachh    0\n",
      "exng        0\n",
      "oldpeak     0\n",
      "slp         0\n",
      "caa         0\n",
      "thall       0\n",
      "output      0\n",
      "dtype: int64\n",
      "age           int64\n",
      "sex           int64\n",
      "cp            int64\n",
      "trtbps        int64\n",
      "chol          int64\n",
      "fbs           int64\n",
      "restecg       int64\n",
      "thalachh      int64\n",
      "exng          int64\n",
      "oldpeak     float64\n",
      "slp           int64\n",
      "caa           int64\n",
      "thall         int64\n",
      "output        int64\n",
      "dtype: object\n"
     ]
    }
   ],
   "source": [
    "# Eksik değer kontrolü\n",
    "print(df.isnull().sum())\n",
    "\n",
    "# Eksik değerleri doldurma (örneğin, ortalama ile)\n",
    "X.fillna(X.mean(), inplace=True)\n",
    "\n",
    "# Veri türlerini kontrol et\n",
    "print(df.dtypes)\n"
   ]
  },
  {
   "cell_type": "code",
   "execution_count": 5,
   "id": "66f74897-dadf-4e31-a26b-d65bfa5f46c3",
   "metadata": {},
   "outputs": [],
   "source": [
    "# kategorik bir sütunu one-hot encoding yapma(Eğer herhangi bir sütun kategorikse (ör. object türündeyse), bunları one-hot encoding veya label encoding ile sayısal hale getirilir.)\n",
    "X = pd.get_dummies(X, drop_first=True)\n"
   ]
  },
  {
   "cell_type": "code",
   "execution_count": 6,
   "id": "3f84b3fe-428f-4083-8cae-b0c3e210cb8c",
   "metadata": {},
   "outputs": [],
   "source": [
    "\n",
    "\n",
    "# numpy verimizi Tensörlere dönüştür\n",
    "X_tensor = torch.tensor(X.values, dtype=torch.float32)\n",
    "y_tensor = torch.tensor(y.values, dtype=torch.float32)  # Eğer y bir sınıflandırma problemi ise `long` kullanabilirsiniz\n"
   ]
  },
  {
   "cell_type": "code",
   "execution_count": 7,
   "id": "f0ca9e73-a7ab-4a04-80f5-f4929f85bad4",
   "metadata": {},
   "outputs": [],
   "source": [
    "\n",
    "\n",
    "class HeartDataset(Dataset):\n",
    "    def __init__(self, file_path):\n",
    "        # CSV dosyasını oku\n",
    "        self.data = pd.read_csv(file_path)\n",
    "\n",
    "        # Eksik değerleri doldur\n",
    "        self.data.fillna(self.data.mean(), inplace=True)\n",
    "\n",
    "        # Bağımsız ve bağımlı değişkenleri ayır\n",
    "        self.X = self.data.iloc[:, :-1]\n",
    "        self.y = self.data.iloc[:, -1]\n",
    "\n",
    "        # Gerekirse kategorik verileri sayısal hale getir\n",
    "        self.X = pd.get_dummies(self.X, drop_first=True)\n",
    "\n",
    "        # Tensörlere dönüştür\n",
    "        self.X = torch.tensor(self.X.values, dtype=torch.float32)\n",
    "        self.y = torch.tensor(self.y.values, dtype=torch.float32)\n",
    "\n",
    "    def __len__(self):\n",
    "        return len(self.data)\n",
    "\n",
    "    def __getitem__(self, idx):\n",
    "        return self.X[idx], self.y[idx]\n"
   ]
  },
  {
   "cell_type": "code",
   "execution_count": 8,
   "id": "74fbdd7f-691c-4891-b595-c8ab409cded7",
   "metadata": {},
   "outputs": [
    {
     "name": "stdout",
     "output_type": "stream",
     "text": [
      "torch.Size([32, 13]) torch.Size([32])\n"
     ]
    }
   ],
   "source": [
    "from torch.utils.data import DataLoader\n",
    "\n",
    "# Dataset oluştur\n",
    "dataset = HeartDataset(r\"data/heart_attack dataset/heart.csv\")\n",
    "\n",
    "# DataLoader ile veri yükleyici oluştur\n",
    "dataloader = DataLoader(dataset, batch_size=32, shuffle=True)\n",
    "\n",
    "# Veri yükleme örneği\n",
    "for batch_X, batch_y in dataloader:\n",
    "    print(batch_X.shape, batch_y.shape)\n",
    "    break\n"
   ]
  },
  {
   "cell_type": "code",
   "execution_count": 9,
   "id": "1211b809-f545-4dc2-a0d2-f15963906a3c",
   "metadata": {},
   "outputs": [],
   "source": [
    "\n",
    "#Modelinizi oluşturmak için PyTorch'un nn.Module sınıfını kullanabilirz. Örnek bir yapay sinir ağı:\n",
    "\n",
    "import torch.nn as nn\n",
    "\n",
    "class HeartModel(nn.Module):\n",
    "    def __init__(self, input_size):\n",
    "        super(HeartModel, self).__init__()\n",
    "        self.fc1 = nn.Linear(input_size, 16)  # İlk katman\n",
    "        self.relu = nn.ReLU()                # Aktivasyon\n",
    "        self.fc2 = nn.Linear(16, 1)          # Çıkış katmanı\n",
    "        self.sigmoid = nn.Sigmoid()          # Sınıflandırma için Sigmoid\n",
    "\n",
    "    def forward(self, x):\n",
    "        x = self.fc1(x)\n",
    "        x = self.relu(x)\n",
    "        x = self.fc2(x)\n",
    "        x = self.sigmoid(x)\n",
    "        return x\n"
   ]
  },
  {
   "cell_type": "code",
   "execution_count": 10,
   "id": "b11f33a4-ae4c-49e1-ad2d-468d8b5459ba",
   "metadata": {},
   "outputs": [],
   "source": [
    "# Giriş boyutunu veri setinden otomatik alabiliriz\n",
    "input_size = dataset.X.shape[1]  # Bağımsız değişkenlerin boyutu\n",
    "model = HeartModel(input_size)\n"
   ]
  },
  {
   "cell_type": "code",
   "execution_count": 11,
   "id": "3681999d-0fe1-4077-ba21-173a977dde80",
   "metadata": {},
   "outputs": [],
   "source": [
    "import torch.optim as optim\n",
    "\n",
    "# Kayıp fonksiyonu\n",
    "criterion = nn.BCELoss()  # Binary Cross Entropy Loss\n",
    "\n",
    "# Optimizatör\n",
    "optimizer = optim.Adam(model.parameters(), lr=0.001)\n"
   ]
  },
  {
   "cell_type": "code",
   "execution_count": 12,
   "id": "2fc93e02-6338-4fee-b8ae-75775cc7de98",
   "metadata": {},
   "outputs": [
    {
     "name": "stdout",
     "output_type": "stream",
     "text": [
      "Epoch 1/20, Loss: 2.9718\n",
      "Epoch 2/20, Loss: 0.9507\n",
      "Epoch 3/20, Loss: 0.9009\n",
      "Epoch 4/20, Loss: 0.7630\n",
      "Epoch 5/20, Loss: 0.7313\n",
      "Epoch 6/20, Loss: 0.7302\n",
      "Epoch 7/20, Loss: 0.7072\n",
      "Epoch 8/20, Loss: 0.7012\n",
      "Epoch 9/20, Loss: 0.6857\n",
      "Epoch 10/20, Loss: 0.6735\n",
      "Epoch 11/20, Loss: 0.6615\n",
      "Epoch 12/20, Loss: 0.6499\n",
      "Epoch 13/20, Loss: 0.6433\n",
      "Epoch 14/20, Loss: 0.6452\n",
      "Epoch 15/20, Loss: 0.6359\n",
      "Epoch 16/20, Loss: 0.6252\n",
      "Epoch 17/20, Loss: 0.6292\n",
      "Epoch 18/20, Loss: 0.6017\n",
      "Epoch 19/20, Loss: 0.5907\n",
      "Epoch 20/20, Loss: 0.5740\n"
     ]
    }
   ],
   "source": [
    "# Eğitim parametreleri\n",
    "epochs = 20  # Eğitim döngüsü sayısı\n",
    "\n",
    "for epoch in range(epochs):\n",
    "    model.train()  # Eğitim moduna geç\n",
    "    running_loss = 0.0\n",
    "\n",
    "    for batch_X, batch_y in dataloader:\n",
    "        # Çıkışın boyutunu y ile aynı hale getir\n",
    "        batch_y = batch_y.unsqueeze(1)\n",
    "\n",
    "        # Optimizatörü sıfırla\n",
    "        optimizer.zero_grad()\n",
    "\n",
    "        # İleri yayılım\n",
    "        outputs = model(batch_X)\n",
    "\n",
    "        # Kayıp hesapla\n",
    "        loss = criterion(outputs, batch_y)\n",
    "\n",
    "        # Geri yayılım\n",
    "        loss.backward()\n",
    "\n",
    "        # Optimizasyon adımı\n",
    "        optimizer.step()\n",
    "\n",
    "        running_loss += loss.item()\n",
    "\n",
    "    print(f\"Epoch {epoch+1}/{epochs}, Loss: {running_loss/len(dataloader):.4f}\")\n"
   ]
  },
  {
   "cell_type": "code",
   "execution_count": 13,
   "id": "a158abed-a2cb-4a90-97b4-ab9b7dbf41d8",
   "metadata": {},
   "outputs": [
    {
     "name": "stdout",
     "output_type": "stream",
     "text": [
      "Accuracy: 70.63%\n"
     ]
    }
   ],
   "source": [
    "def evaluate_model(model, dataloader):\n",
    "    model.eval()  # Değerlendirme moduna geç\n",
    "    correct = 0\n",
    "    total = 0\n",
    "\n",
    "    with torch.no_grad():  # Gradient hesaplamalarını kapat\n",
    "        for batch_X, batch_y in dataloader:\n",
    "            # Çıkışın boyutunu y ile aynı hale getir\n",
    "            batch_y = batch_y.unsqueeze(1)\n",
    "\n",
    "            # Tahmin\n",
    "            outputs = model(batch_X)\n",
    "            predicted = (outputs > 0.5).float()  # 0.5 eşik değeri\n",
    "            total += batch_y.size(0)\n",
    "            correct += (predicted == batch_y).sum().item()\n",
    "\n",
    "    accuracy = 100 * correct / total\n",
    "    print(f\"Accuracy: {accuracy:.2f}%\")\n",
    "\n",
    "# Modeli değerlendirme\n",
    "evaluate_model(model, dataloader)\n"
   ]
  },
  {
   "cell_type": "code",
   "execution_count": 15,
   "id": "61807dbe-c8ab-454f-ad12-01c31f8a96d6",
   "metadata": {},
   "outputs": [
    {
     "data": {
      "image/svg+xml": [
       "<svg xmlns=\"http://www.w3.org/2000/svg\" width=\"1920\" height=\"911\" style=\"cursor: move;\"><g><path class=\"link\" marker-end=\"\" d=\"M746.6666666666666,265.5, 926.6666666666666,145.5\" style=\"stroke-width: 0.5; stroke-opacity: 1; stroke: rgb(80, 80, 80); fill: none;\"/><path class=\"link\" marker-end=\"\" d=\"M746.6666666666666,265.5, 926.6666666666666,185.5\" style=\"stroke-width: 0.5; stroke-opacity: 1; stroke: rgb(80, 80, 80); fill: none;\"/><path class=\"link\" marker-end=\"\" d=\"M746.6666666666666,265.5, 926.6666666666666,225.5\" style=\"stroke-width: 0.5; stroke-opacity: 1; stroke: rgb(80, 80, 80); fill: none;\"/><path class=\"link\" marker-end=\"\" d=\"M746.6666666666666,265.5, 926.6666666666666,265.5\" style=\"stroke-width: 0.5; stroke-opacity: 1; stroke: rgb(80, 80, 80); fill: none;\"/><path class=\"link\" marker-end=\"\" d=\"M746.6666666666666,265.5, 926.6666666666666,305.5\" style=\"stroke-width: 0.5; stroke-opacity: 1; stroke: rgb(80, 80, 80); fill: none;\"/><path class=\"link\" marker-end=\"\" d=\"M746.6666666666666,265.5, 926.6666666666666,345.5\" style=\"stroke-width: 0.5; stroke-opacity: 1; stroke: rgb(80, 80, 80); fill: none;\"/><path class=\"link\" marker-end=\"\" d=\"M746.6666666666666,265.5, 926.6666666666666,385.5\" style=\"stroke-width: 0.5; stroke-opacity: 1; stroke: rgb(80, 80, 80); fill: none;\"/><path class=\"link\" marker-end=\"\" d=\"M746.6666666666666,265.5, 926.6666666666666,425.5\" style=\"stroke-width: 0.5; stroke-opacity: 1; stroke: rgb(80, 80, 80); fill: none;\"/><path class=\"link\" marker-end=\"\" d=\"M746.6666666666666,265.5, 926.6666666666666,465.5\" style=\"stroke-width: 0.5; stroke-opacity: 1; stroke: rgb(80, 80, 80); fill: none;\"/><path class=\"link\" marker-end=\"\" d=\"M746.6666666666666,265.5, 926.6666666666666,505.5\" style=\"stroke-width: 0.5; stroke-opacity: 1; stroke: rgb(80, 80, 80); fill: none;\"/><path class=\"link\" marker-end=\"\" d=\"M746.6666666666666,265.5, 926.6666666666666,545.5\" style=\"stroke-width: 0.5; stroke-opacity: 1; stroke: rgb(80, 80, 80); fill: none;\"/><path class=\"link\" marker-end=\"\" d=\"M746.6666666666666,265.5, 926.6666666666666,585.5\" style=\"stroke-width: 0.5; stroke-opacity: 1; stroke: rgb(80, 80, 80); fill: none;\"/><path class=\"link\" marker-end=\"\" d=\"M746.6666666666666,305.5, 926.6666666666666,145.5\" style=\"stroke-width: 0.5; stroke-opacity: 1; stroke: rgb(80, 80, 80); fill: none;\"/><path class=\"link\" marker-end=\"\" d=\"M746.6666666666666,305.5, 926.6666666666666,185.5\" style=\"stroke-width: 0.5; stroke-opacity: 1; stroke: rgb(80, 80, 80); fill: none;\"/><path class=\"link\" marker-end=\"\" d=\"M746.6666666666666,305.5, 926.6666666666666,225.5\" style=\"stroke-width: 0.5; stroke-opacity: 1; stroke: rgb(80, 80, 80); fill: none;\"/><path class=\"link\" marker-end=\"\" d=\"M746.6666666666666,305.5, 926.6666666666666,265.5\" style=\"stroke-width: 0.5; stroke-opacity: 1; stroke: rgb(80, 80, 80); fill: none;\"/><path class=\"link\" marker-end=\"\" d=\"M746.6666666666666,305.5, 926.6666666666666,305.5\" style=\"stroke-width: 0.5; stroke-opacity: 1; stroke: rgb(80, 80, 80); fill: none;\"/><path class=\"link\" marker-end=\"\" d=\"M746.6666666666666,305.5, 926.6666666666666,345.5\" style=\"stroke-width: 0.5; stroke-opacity: 1; stroke: rgb(80, 80, 80); fill: none;\"/><path class=\"link\" marker-end=\"\" d=\"M746.6666666666666,305.5, 926.6666666666666,385.5\" style=\"stroke-width: 0.5; stroke-opacity: 1; stroke: rgb(80, 80, 80); fill: none;\"/><path class=\"link\" marker-end=\"\" d=\"M746.6666666666666,305.5, 926.6666666666666,425.5\" style=\"stroke-width: 0.5; stroke-opacity: 1; stroke: rgb(80, 80, 80); fill: none;\"/><path class=\"link\" marker-end=\"\" d=\"M746.6666666666666,305.5, 926.6666666666666,465.5\" style=\"stroke-width: 0.5; stroke-opacity: 1; stroke: rgb(80, 80, 80); fill: none;\"/><path class=\"link\" marker-end=\"\" d=\"M746.6666666666666,305.5, 926.6666666666666,505.5\" style=\"stroke-width: 0.5; stroke-opacity: 1; stroke: rgb(80, 80, 80); fill: none;\"/><path class=\"link\" marker-end=\"\" d=\"M746.6666666666666,305.5, 926.6666666666666,545.5\" style=\"stroke-width: 0.5; stroke-opacity: 1; stroke: rgb(80, 80, 80); fill: none;\"/><path class=\"link\" marker-end=\"\" d=\"M746.6666666666666,305.5, 926.6666666666666,585.5\" style=\"stroke-width: 0.5; stroke-opacity: 1; stroke: rgb(80, 80, 80); fill: none;\"/><path class=\"link\" marker-end=\"\" d=\"M746.6666666666666,345.5, 926.6666666666666,145.5\" style=\"stroke-width: 0.5; stroke-opacity: 1; stroke: rgb(80, 80, 80); fill: none;\"/><path class=\"link\" marker-end=\"\" d=\"M746.6666666666666,345.5, 926.6666666666666,185.5\" style=\"stroke-width: 0.5; stroke-opacity: 1; stroke: rgb(80, 80, 80); fill: none;\"/><path class=\"link\" marker-end=\"\" d=\"M746.6666666666666,345.5, 926.6666666666666,225.5\" style=\"stroke-width: 0.5; stroke-opacity: 1; stroke: rgb(80, 80, 80); fill: none;\"/><path class=\"link\" marker-end=\"\" d=\"M746.6666666666666,345.5, 926.6666666666666,265.5\" style=\"stroke-width: 0.5; stroke-opacity: 1; stroke: rgb(80, 80, 80); fill: none;\"/><path class=\"link\" marker-end=\"\" d=\"M746.6666666666666,345.5, 926.6666666666666,305.5\" style=\"stroke-width: 0.5; stroke-opacity: 1; stroke: rgb(80, 80, 80); fill: none;\"/><path class=\"link\" marker-end=\"\" d=\"M746.6666666666666,345.5, 926.6666666666666,345.5\" style=\"stroke-width: 0.5; stroke-opacity: 1; stroke: rgb(80, 80, 80); fill: none;\"/><path class=\"link\" marker-end=\"\" d=\"M746.6666666666666,345.5, 926.6666666666666,385.5\" style=\"stroke-width: 0.5; stroke-opacity: 1; stroke: rgb(80, 80, 80); fill: none;\"/><path class=\"link\" marker-end=\"\" d=\"M746.6666666666666,345.5, 926.6666666666666,425.5\" style=\"stroke-width: 0.5; stroke-opacity: 1; stroke: rgb(80, 80, 80); fill: none;\"/><path class=\"link\" marker-end=\"\" d=\"M746.6666666666666,345.5, 926.6666666666666,465.5\" style=\"stroke-width: 0.5; stroke-opacity: 1; stroke: rgb(80, 80, 80); fill: none;\"/><path class=\"link\" marker-end=\"\" d=\"M746.6666666666666,345.5, 926.6666666666666,505.5\" style=\"stroke-width: 0.5; stroke-opacity: 1; stroke: rgb(80, 80, 80); fill: none;\"/><path class=\"link\" marker-end=\"\" d=\"M746.6666666666666,345.5, 926.6666666666666,545.5\" style=\"stroke-width: 0.5; stroke-opacity: 1; stroke: rgb(80, 80, 80); fill: none;\"/><path class=\"link\" marker-end=\"\" d=\"M746.6666666666666,345.5, 926.6666666666666,585.5\" style=\"stroke-width: 0.5; stroke-opacity: 1; stroke: rgb(80, 80, 80); fill: none;\"/><path class=\"link\" marker-end=\"\" d=\"M746.6666666666666,385.5, 926.6666666666666,145.5\" style=\"stroke-width: 0.5; stroke-opacity: 1; stroke: rgb(80, 80, 80); fill: none;\"/><path class=\"link\" marker-end=\"\" d=\"M746.6666666666666,385.5, 926.6666666666666,185.5\" style=\"stroke-width: 0.5; stroke-opacity: 1; stroke: rgb(80, 80, 80); fill: none;\"/><path class=\"link\" marker-end=\"\" d=\"M746.6666666666666,385.5, 926.6666666666666,225.5\" style=\"stroke-width: 0.5; stroke-opacity: 1; stroke: rgb(80, 80, 80); fill: none;\"/><path class=\"link\" marker-end=\"\" d=\"M746.6666666666666,385.5, 926.6666666666666,265.5\" style=\"stroke-width: 0.5; stroke-opacity: 1; stroke: rgb(80, 80, 80); fill: none;\"/><path class=\"link\" marker-end=\"\" d=\"M746.6666666666666,385.5, 926.6666666666666,305.5\" style=\"stroke-width: 0.5; stroke-opacity: 1; stroke: rgb(80, 80, 80); fill: none;\"/><path class=\"link\" marker-end=\"\" d=\"M746.6666666666666,385.5, 926.6666666666666,345.5\" style=\"stroke-width: 0.5; stroke-opacity: 1; stroke: rgb(80, 80, 80); fill: none;\"/><path class=\"link\" marker-end=\"\" d=\"M746.6666666666666,385.5, 926.6666666666666,385.5\" style=\"stroke-width: 0.5; stroke-opacity: 1; stroke: rgb(80, 80, 80); fill: none;\"/><path class=\"link\" marker-end=\"\" d=\"M746.6666666666666,385.5, 926.6666666666666,425.5\" style=\"stroke-width: 0.5; stroke-opacity: 1; stroke: rgb(80, 80, 80); fill: none;\"/><path class=\"link\" marker-end=\"\" d=\"M746.6666666666666,385.5, 926.6666666666666,465.5\" style=\"stroke-width: 0.5; stroke-opacity: 1; stroke: rgb(80, 80, 80); fill: none;\"/><path class=\"link\" marker-end=\"\" d=\"M746.6666666666666,385.5, 926.6666666666666,505.5\" style=\"stroke-width: 0.5; stroke-opacity: 1; stroke: rgb(80, 80, 80); fill: none;\"/><path class=\"link\" marker-end=\"\" d=\"M746.6666666666666,385.5, 926.6666666666666,545.5\" style=\"stroke-width: 0.5; stroke-opacity: 1; stroke: rgb(80, 80, 80); fill: none;\"/><path class=\"link\" marker-end=\"\" d=\"M746.6666666666666,385.5, 926.6666666666666,585.5\" style=\"stroke-width: 0.5; stroke-opacity: 1; stroke: rgb(80, 80, 80); fill: none;\"/><path class=\"link\" marker-end=\"\" d=\"M746.6666666666666,425.5, 926.6666666666666,145.5\" style=\"stroke-width: 0.5; stroke-opacity: 1; stroke: rgb(80, 80, 80); fill: none;\"/><path class=\"link\" marker-end=\"\" d=\"M746.6666666666666,425.5, 926.6666666666666,185.5\" style=\"stroke-width: 0.5; stroke-opacity: 1; stroke: rgb(80, 80, 80); fill: none;\"/><path class=\"link\" marker-end=\"\" d=\"M746.6666666666666,425.5, 926.6666666666666,225.5\" style=\"stroke-width: 0.5; stroke-opacity: 1; stroke: rgb(80, 80, 80); fill: none;\"/><path class=\"link\" marker-end=\"\" d=\"M746.6666666666666,425.5, 926.6666666666666,265.5\" style=\"stroke-width: 0.5; stroke-opacity: 1; stroke: rgb(80, 80, 80); fill: none;\"/><path class=\"link\" marker-end=\"\" d=\"M746.6666666666666,425.5, 926.6666666666666,305.5\" style=\"stroke-width: 0.5; stroke-opacity: 1; stroke: rgb(80, 80, 80); fill: none;\"/><path class=\"link\" marker-end=\"\" d=\"M746.6666666666666,425.5, 926.6666666666666,345.5\" style=\"stroke-width: 0.5; stroke-opacity: 1; stroke: rgb(80, 80, 80); fill: none;\"/><path class=\"link\" marker-end=\"\" d=\"M746.6666666666666,425.5, 926.6666666666666,385.5\" style=\"stroke-width: 0.5; stroke-opacity: 1; stroke: rgb(80, 80, 80); fill: none;\"/><path class=\"link\" marker-end=\"\" d=\"M746.6666666666666,425.5, 926.6666666666666,425.5\" style=\"stroke-width: 0.5; stroke-opacity: 1; stroke: rgb(80, 80, 80); fill: none;\"/><path class=\"link\" marker-end=\"\" d=\"M746.6666666666666,425.5, 926.6666666666666,465.5\" style=\"stroke-width: 0.5; stroke-opacity: 1; stroke: rgb(80, 80, 80); fill: none;\"/><path class=\"link\" marker-end=\"\" d=\"M746.6666666666666,425.5, 926.6666666666666,505.5\" style=\"stroke-width: 0.5; stroke-opacity: 1; stroke: rgb(80, 80, 80); fill: none;\"/><path class=\"link\" marker-end=\"\" d=\"M746.6666666666666,425.5, 926.6666666666666,545.5\" style=\"stroke-width: 0.5; stroke-opacity: 1; stroke: rgb(80, 80, 80); fill: none;\"/><path class=\"link\" marker-end=\"\" d=\"M746.6666666666666,425.5, 926.6666666666666,585.5\" style=\"stroke-width: 0.5; stroke-opacity: 1; stroke: rgb(80, 80, 80); fill: none;\"/><path class=\"link\" marker-end=\"\" d=\"M746.6666666666666,465.5, 926.6666666666666,145.5\" style=\"stroke-width: 0.5; stroke-opacity: 1; stroke: rgb(80, 80, 80); fill: none;\"/><path class=\"link\" marker-end=\"\" d=\"M746.6666666666666,465.5, 926.6666666666666,185.5\" style=\"stroke-width: 0.5; stroke-opacity: 1; stroke: rgb(80, 80, 80); fill: none;\"/><path class=\"link\" marker-end=\"\" d=\"M746.6666666666666,465.5, 926.6666666666666,225.5\" style=\"stroke-width: 0.5; stroke-opacity: 1; stroke: rgb(80, 80, 80); fill: none;\"/><path class=\"link\" marker-end=\"\" d=\"M746.6666666666666,465.5, 926.6666666666666,265.5\" style=\"stroke-width: 0.5; stroke-opacity: 1; stroke: rgb(80, 80, 80); fill: none;\"/><path class=\"link\" marker-end=\"\" d=\"M746.6666666666666,465.5, 926.6666666666666,305.5\" style=\"stroke-width: 0.5; stroke-opacity: 1; stroke: rgb(80, 80, 80); fill: none;\"/><path class=\"link\" marker-end=\"\" d=\"M746.6666666666666,465.5, 926.6666666666666,345.5\" style=\"stroke-width: 0.5; stroke-opacity: 1; stroke: rgb(80, 80, 80); fill: none;\"/><path class=\"link\" marker-end=\"\" d=\"M746.6666666666666,465.5, 926.6666666666666,385.5\" style=\"stroke-width: 0.5; stroke-opacity: 1; stroke: rgb(80, 80, 80); fill: none;\"/><path class=\"link\" marker-end=\"\" d=\"M746.6666666666666,465.5, 926.6666666666666,425.5\" style=\"stroke-width: 0.5; stroke-opacity: 1; stroke: rgb(80, 80, 80); fill: none;\"/><path class=\"link\" marker-end=\"\" d=\"M746.6666666666666,465.5, 926.6666666666666,465.5\" style=\"stroke-width: 0.5; stroke-opacity: 1; stroke: rgb(80, 80, 80); fill: none;\"/><path class=\"link\" marker-end=\"\" d=\"M746.6666666666666,465.5, 926.6666666666666,505.5\" style=\"stroke-width: 0.5; stroke-opacity: 1; stroke: rgb(80, 80, 80); fill: none;\"/><path class=\"link\" marker-end=\"\" d=\"M746.6666666666666,465.5, 926.6666666666666,545.5\" style=\"stroke-width: 0.5; stroke-opacity: 1; stroke: rgb(80, 80, 80); fill: none;\"/><path class=\"link\" marker-end=\"\" d=\"M746.6666666666666,465.5, 926.6666666666666,585.5\" style=\"stroke-width: 0.5; stroke-opacity: 1; stroke: rgb(80, 80, 80); fill: none;\"/><path class=\"link\" marker-end=\"\" d=\"M746.6666666666666,505.5, 926.6666666666666,145.5\" style=\"stroke-width: 0.5; stroke-opacity: 1; stroke: rgb(80, 80, 80); fill: none;\"/><path class=\"link\" marker-end=\"\" d=\"M746.6666666666666,505.5, 926.6666666666666,185.5\" style=\"stroke-width: 0.5; stroke-opacity: 1; stroke: rgb(80, 80, 80); fill: none;\"/><path class=\"link\" marker-end=\"\" d=\"M746.6666666666666,505.5, 926.6666666666666,225.5\" style=\"stroke-width: 0.5; stroke-opacity: 1; stroke: rgb(80, 80, 80); fill: none;\"/><path class=\"link\" marker-end=\"\" d=\"M746.6666666666666,505.5, 926.6666666666666,265.5\" style=\"stroke-width: 0.5; stroke-opacity: 1; stroke: rgb(80, 80, 80); fill: none;\"/><path class=\"link\" marker-end=\"\" d=\"M746.6666666666666,505.5, 926.6666666666666,305.5\" style=\"stroke-width: 0.5; stroke-opacity: 1; stroke: rgb(80, 80, 80); fill: none;\"/><path class=\"link\" marker-end=\"\" d=\"M746.6666666666666,505.5, 926.6666666666666,345.5\" style=\"stroke-width: 0.5; stroke-opacity: 1; stroke: rgb(80, 80, 80); fill: none;\"/><path class=\"link\" marker-end=\"\" d=\"M746.6666666666666,505.5, 926.6666666666666,385.5\" style=\"stroke-width: 0.5; stroke-opacity: 1; stroke: rgb(80, 80, 80); fill: none;\"/><path class=\"link\" marker-end=\"\" d=\"M746.6666666666666,505.5, 926.6666666666666,425.5\" style=\"stroke-width: 0.5; stroke-opacity: 1; stroke: rgb(80, 80, 80); fill: none;\"/><path class=\"link\" marker-end=\"\" d=\"M746.6666666666666,505.5, 926.6666666666666,465.5\" style=\"stroke-width: 0.5; stroke-opacity: 1; stroke: rgb(80, 80, 80); fill: none;\"/><path class=\"link\" marker-end=\"\" d=\"M746.6666666666666,505.5, 926.6666666666666,505.5\" style=\"stroke-width: 0.5; stroke-opacity: 1; stroke: rgb(80, 80, 80); fill: none;\"/><path class=\"link\" marker-end=\"\" d=\"M746.6666666666666,505.5, 926.6666666666666,545.5\" style=\"stroke-width: 0.5; stroke-opacity: 1; stroke: rgb(80, 80, 80); fill: none;\"/><path class=\"link\" marker-end=\"\" d=\"M746.6666666666666,505.5, 926.6666666666666,585.5\" style=\"stroke-width: 0.5; stroke-opacity: 1; stroke: rgb(80, 80, 80); fill: none;\"/><path class=\"link\" marker-end=\"\" d=\"M746.6666666666666,545.5, 926.6666666666666,145.5\" style=\"stroke-width: 0.5; stroke-opacity: 1; stroke: rgb(80, 80, 80); fill: none;\"/><path class=\"link\" marker-end=\"\" d=\"M746.6666666666666,545.5, 926.6666666666666,185.5\" style=\"stroke-width: 0.5; stroke-opacity: 1; stroke: rgb(80, 80, 80); fill: none;\"/><path class=\"link\" marker-end=\"\" d=\"M746.6666666666666,545.5, 926.6666666666666,225.5\" style=\"stroke-width: 0.5; stroke-opacity: 1; stroke: rgb(80, 80, 80); fill: none;\"/><path class=\"link\" marker-end=\"\" d=\"M746.6666666666666,545.5, 926.6666666666666,265.5\" style=\"stroke-width: 0.5; stroke-opacity: 1; stroke: rgb(80, 80, 80); fill: none;\"/><path class=\"link\" marker-end=\"\" d=\"M746.6666666666666,545.5, 926.6666666666666,305.5\" style=\"stroke-width: 0.5; stroke-opacity: 1; stroke: rgb(80, 80, 80); fill: none;\"/><path class=\"link\" marker-end=\"\" d=\"M746.6666666666666,545.5, 926.6666666666666,345.5\" style=\"stroke-width: 0.5; stroke-opacity: 1; stroke: rgb(80, 80, 80); fill: none;\"/><path class=\"link\" marker-end=\"\" d=\"M746.6666666666666,545.5, 926.6666666666666,385.5\" style=\"stroke-width: 0.5; stroke-opacity: 1; stroke: rgb(80, 80, 80); fill: none;\"/><path class=\"link\" marker-end=\"\" d=\"M746.6666666666666,545.5, 926.6666666666666,425.5\" style=\"stroke-width: 0.5; stroke-opacity: 1; stroke: rgb(80, 80, 80); fill: none;\"/><path class=\"link\" marker-end=\"\" d=\"M746.6666666666666,545.5, 926.6666666666666,465.5\" style=\"stroke-width: 0.5; stroke-opacity: 1; stroke: rgb(80, 80, 80); fill: none;\"/><path class=\"link\" marker-end=\"\" d=\"M746.6666666666666,545.5, 926.6666666666666,505.5\" style=\"stroke-width: 0.5; stroke-opacity: 1; stroke: rgb(80, 80, 80); fill: none;\"/><path class=\"link\" marker-end=\"\" d=\"M746.6666666666666,545.5, 926.6666666666666,545.5\" style=\"stroke-width: 0.5; stroke-opacity: 1; stroke: rgb(80, 80, 80); fill: none;\"/><path class=\"link\" marker-end=\"\" d=\"M746.6666666666666,545.5, 926.6666666666666,585.5\" style=\"stroke-width: 0.5; stroke-opacity: 1; stroke: rgb(80, 80, 80); fill: none;\"/><path class=\"link\" marker-end=\"\" d=\"M746.6666666666666,585.5, 926.6666666666666,145.5\" style=\"stroke-width: 0.5; stroke-opacity: 1; stroke: rgb(80, 80, 80); fill: none;\"/><path class=\"link\" marker-end=\"\" d=\"M746.6666666666666,585.5, 926.6666666666666,185.5\" style=\"stroke-width: 0.5; stroke-opacity: 1; stroke: rgb(80, 80, 80); fill: none;\"/><path class=\"link\" marker-end=\"\" d=\"M746.6666666666666,585.5, 926.6666666666666,225.5\" style=\"stroke-width: 0.5; stroke-opacity: 1; stroke: rgb(80, 80, 80); fill: none;\"/><path class=\"link\" marker-end=\"\" d=\"M746.6666666666666,585.5, 926.6666666666666,265.5\" style=\"stroke-width: 0.5; stroke-opacity: 1; stroke: rgb(80, 80, 80); fill: none;\"/><path class=\"link\" marker-end=\"\" d=\"M746.6666666666666,585.5, 926.6666666666666,305.5\" style=\"stroke-width: 0.5; stroke-opacity: 1; stroke: rgb(80, 80, 80); fill: none;\"/><path class=\"link\" marker-end=\"\" d=\"M746.6666666666666,585.5, 926.6666666666666,345.5\" style=\"stroke-width: 0.5; stroke-opacity: 1; stroke: rgb(80, 80, 80); fill: none;\"/><path class=\"link\" marker-end=\"\" d=\"M746.6666666666666,585.5, 926.6666666666666,385.5\" style=\"stroke-width: 0.5; stroke-opacity: 1; stroke: rgb(80, 80, 80); fill: none;\"/><path class=\"link\" marker-end=\"\" d=\"M746.6666666666666,585.5, 926.6666666666666,425.5\" style=\"stroke-width: 0.5; stroke-opacity: 1; stroke: rgb(80, 80, 80); fill: none;\"/><path class=\"link\" marker-end=\"\" d=\"M746.6666666666666,585.5, 926.6666666666666,465.5\" style=\"stroke-width: 0.5; stroke-opacity: 1; stroke: rgb(80, 80, 80); fill: none;\"/><path class=\"link\" marker-end=\"\" d=\"M746.6666666666666,585.5, 926.6666666666666,505.5\" style=\"stroke-width: 0.5; stroke-opacity: 1; stroke: rgb(80, 80, 80); fill: none;\"/><path class=\"link\" marker-end=\"\" d=\"M746.6666666666666,585.5, 926.6666666666666,545.5\" style=\"stroke-width: 0.5; stroke-opacity: 1; stroke: rgb(80, 80, 80); fill: none;\"/><path class=\"link\" marker-end=\"\" d=\"M746.6666666666666,585.5, 926.6666666666666,585.5\" style=\"stroke-width: 0.5; stroke-opacity: 1; stroke: rgb(80, 80, 80); fill: none;\"/><path class=\"link\" marker-end=\"\" d=\"M746.6666666666666,625.5, 926.6666666666666,145.5\" style=\"stroke-width: 0.5; stroke-opacity: 1; stroke: rgb(80, 80, 80); fill: none;\"/><path class=\"link\" marker-end=\"\" d=\"M746.6666666666666,625.5, 926.6666666666666,185.5\" style=\"stroke-width: 0.5; stroke-opacity: 1; stroke: rgb(80, 80, 80); fill: none;\"/><path class=\"link\" marker-end=\"\" d=\"M746.6666666666666,625.5, 926.6666666666666,225.5\" style=\"stroke-width: 0.5; stroke-opacity: 1; stroke: rgb(80, 80, 80); fill: none;\"/><path class=\"link\" marker-end=\"\" d=\"M746.6666666666666,625.5, 926.6666666666666,265.5\" style=\"stroke-width: 0.5; stroke-opacity: 1; stroke: rgb(80, 80, 80); fill: none;\"/><path class=\"link\" marker-end=\"\" d=\"M746.6666666666666,625.5, 926.6666666666666,305.5\" style=\"stroke-width: 0.5; stroke-opacity: 1; stroke: rgb(80, 80, 80); fill: none;\"/><path class=\"link\" marker-end=\"\" d=\"M746.6666666666666,625.5, 926.6666666666666,345.5\" style=\"stroke-width: 0.5; stroke-opacity: 1; stroke: rgb(80, 80, 80); fill: none;\"/><path class=\"link\" marker-end=\"\" d=\"M746.6666666666666,625.5, 926.6666666666666,385.5\" style=\"stroke-width: 0.5; stroke-opacity: 1; stroke: rgb(80, 80, 80); fill: none;\"/><path class=\"link\" marker-end=\"\" d=\"M746.6666666666666,625.5, 926.6666666666666,425.5\" style=\"stroke-width: 0.5; stroke-opacity: 1; stroke: rgb(80, 80, 80); fill: none;\"/><path class=\"link\" marker-end=\"\" d=\"M746.6666666666666,625.5, 926.6666666666666,465.5\" style=\"stroke-width: 0.5; stroke-opacity: 1; stroke: rgb(80, 80, 80); fill: none;\"/><path class=\"link\" marker-end=\"\" d=\"M746.6666666666666,625.5, 926.6666666666666,505.5\" style=\"stroke-width: 0.5; stroke-opacity: 1; stroke: rgb(80, 80, 80); fill: none;\"/><path class=\"link\" marker-end=\"\" d=\"M746.6666666666666,625.5, 926.6666666666666,545.5\" style=\"stroke-width: 0.5; stroke-opacity: 1; stroke: rgb(80, 80, 80); fill: none;\"/><path class=\"link\" marker-end=\"\" d=\"M746.6666666666666,625.5, 926.6666666666666,585.5\" style=\"stroke-width: 0.5; stroke-opacity: 1; stroke: rgb(80, 80, 80); fill: none;\"/><path class=\"link\" marker-end=\"\" d=\"M926.6666666666666,145.5, 1106.6666666666667,145.5\" style=\"stroke-width: 0.5; stroke-opacity: 1; stroke: rgb(80, 80, 80); fill: none;\"/><path class=\"link\" marker-end=\"\" d=\"M926.6666666666666,145.5, 1106.6666666666667,185.5\" style=\"stroke-width: 0.5; stroke-opacity: 1; stroke: rgb(80, 80, 80); fill: none;\"/><path class=\"link\" marker-end=\"\" d=\"M926.6666666666666,145.5, 1106.6666666666667,225.5\" style=\"stroke-width: 0.5; stroke-opacity: 1; stroke: rgb(80, 80, 80); fill: none;\"/><path class=\"link\" marker-end=\"\" d=\"M926.6666666666666,145.5, 1106.6666666666667,265.5\" style=\"stroke-width: 0.5; stroke-opacity: 1; stroke: rgb(80, 80, 80); fill: none;\"/><path class=\"link\" marker-end=\"\" d=\"M926.6666666666666,145.5, 1106.6666666666667,305.5\" style=\"stroke-width: 0.5; stroke-opacity: 1; stroke: rgb(80, 80, 80); fill: none;\"/><path class=\"link\" marker-end=\"\" d=\"M926.6666666666666,145.5, 1106.6666666666667,345.5\" style=\"stroke-width: 0.5; stroke-opacity: 1; stroke: rgb(80, 80, 80); fill: none;\"/><path class=\"link\" marker-end=\"\" d=\"M926.6666666666666,145.5, 1106.6666666666667,385.5\" style=\"stroke-width: 0.5; stroke-opacity: 1; stroke: rgb(80, 80, 80); fill: none;\"/><path class=\"link\" marker-end=\"\" d=\"M926.6666666666666,145.5, 1106.6666666666667,425.5\" style=\"stroke-width: 0.5; stroke-opacity: 1; stroke: rgb(80, 80, 80); fill: none;\"/><path class=\"link\" marker-end=\"\" d=\"M926.6666666666666,145.5, 1106.6666666666667,465.5\" style=\"stroke-width: 0.5; stroke-opacity: 1; stroke: rgb(80, 80, 80); fill: none;\"/><path class=\"link\" marker-end=\"\" d=\"M926.6666666666666,145.5, 1106.6666666666667,505.5\" style=\"stroke-width: 0.5; stroke-opacity: 1; stroke: rgb(80, 80, 80); fill: none;\"/><path class=\"link\" marker-end=\"\" d=\"M926.6666666666666,185.5, 1106.6666666666667,145.5\" style=\"stroke-width: 0.5; stroke-opacity: 1; stroke: rgb(80, 80, 80); fill: none;\"/><path class=\"link\" marker-end=\"\" d=\"M926.6666666666666,185.5, 1106.6666666666667,185.5\" style=\"stroke-width: 0.5; stroke-opacity: 1; stroke: rgb(80, 80, 80); fill: none;\"/><path class=\"link\" marker-end=\"\" d=\"M926.6666666666666,185.5, 1106.6666666666667,225.5\" style=\"stroke-width: 0.5; stroke-opacity: 1; stroke: rgb(80, 80, 80); fill: none;\"/><path class=\"link\" marker-end=\"\" d=\"M926.6666666666666,185.5, 1106.6666666666667,265.5\" style=\"stroke-width: 0.5; stroke-opacity: 1; stroke: rgb(80, 80, 80); fill: none;\"/><path class=\"link\" marker-end=\"\" d=\"M926.6666666666666,185.5, 1106.6666666666667,305.5\" style=\"stroke-width: 0.5; stroke-opacity: 1; stroke: rgb(80, 80, 80); fill: none;\"/><path class=\"link\" marker-end=\"\" d=\"M926.6666666666666,185.5, 1106.6666666666667,345.5\" style=\"stroke-width: 0.5; stroke-opacity: 1; stroke: rgb(80, 80, 80); fill: none;\"/><path class=\"link\" marker-end=\"\" d=\"M926.6666666666666,185.5, 1106.6666666666667,385.5\" style=\"stroke-width: 0.5; stroke-opacity: 1; stroke: rgb(80, 80, 80); fill: none;\"/><path class=\"link\" marker-end=\"\" d=\"M926.6666666666666,185.5, 1106.6666666666667,425.5\" style=\"stroke-width: 0.5; stroke-opacity: 1; stroke: rgb(80, 80, 80); fill: none;\"/><path class=\"link\" marker-end=\"\" d=\"M926.6666666666666,185.5, 1106.6666666666667,465.5\" style=\"stroke-width: 0.5; stroke-opacity: 1; stroke: rgb(80, 80, 80); fill: none;\"/><path class=\"link\" marker-end=\"\" d=\"M926.6666666666666,185.5, 1106.6666666666667,505.5\" style=\"stroke-width: 0.5; stroke-opacity: 1; stroke: rgb(80, 80, 80); fill: none;\"/><path class=\"link\" marker-end=\"\" d=\"M926.6666666666666,225.5, 1106.6666666666667,145.5\" style=\"stroke-width: 0.5; stroke-opacity: 1; stroke: rgb(80, 80, 80); fill: none;\"/><path class=\"link\" marker-end=\"\" d=\"M926.6666666666666,225.5, 1106.6666666666667,185.5\" style=\"stroke-width: 0.5; stroke-opacity: 1; stroke: rgb(80, 80, 80); fill: none;\"/><path class=\"link\" marker-end=\"\" d=\"M926.6666666666666,225.5, 1106.6666666666667,225.5\" style=\"stroke-width: 0.5; stroke-opacity: 1; stroke: rgb(80, 80, 80); fill: none;\"/><path class=\"link\" marker-end=\"\" d=\"M926.6666666666666,225.5, 1106.6666666666667,265.5\" style=\"stroke-width: 0.5; stroke-opacity: 1; stroke: rgb(80, 80, 80); fill: none;\"/><path class=\"link\" marker-end=\"\" d=\"M926.6666666666666,225.5, 1106.6666666666667,305.5\" style=\"stroke-width: 0.5; stroke-opacity: 1; stroke: rgb(80, 80, 80); fill: none;\"/><path class=\"link\" marker-end=\"\" d=\"M926.6666666666666,225.5, 1106.6666666666667,345.5\" style=\"stroke-width: 0.5; stroke-opacity: 1; stroke: rgb(80, 80, 80); fill: none;\"/><path class=\"link\" marker-end=\"\" d=\"M926.6666666666666,225.5, 1106.6666666666667,385.5\" style=\"stroke-width: 0.5; stroke-opacity: 1; stroke: rgb(80, 80, 80); fill: none;\"/><path class=\"link\" marker-end=\"\" d=\"M926.6666666666666,225.5, 1106.6666666666667,425.5\" style=\"stroke-width: 0.5; stroke-opacity: 1; stroke: rgb(80, 80, 80); fill: none;\"/><path class=\"link\" marker-end=\"\" d=\"M926.6666666666666,225.5, 1106.6666666666667,465.5\" style=\"stroke-width: 0.5; stroke-opacity: 1; stroke: rgb(80, 80, 80); fill: none;\"/><path class=\"link\" marker-end=\"\" d=\"M926.6666666666666,225.5, 1106.6666666666667,505.5\" style=\"stroke-width: 0.5; stroke-opacity: 1; stroke: rgb(80, 80, 80); fill: none;\"/><path class=\"link\" marker-end=\"\" d=\"M926.6666666666666,265.5, 1106.6666666666667,145.5\" style=\"stroke-width: 0.5; stroke-opacity: 1; stroke: rgb(80, 80, 80); fill: none;\"/><path class=\"link\" marker-end=\"\" d=\"M926.6666666666666,265.5, 1106.6666666666667,185.5\" style=\"stroke-width: 0.5; stroke-opacity: 1; stroke: rgb(80, 80, 80); fill: none;\"/><path class=\"link\" marker-end=\"\" d=\"M926.6666666666666,265.5, 1106.6666666666667,225.5\" style=\"stroke-width: 0.5; stroke-opacity: 1; stroke: rgb(80, 80, 80); fill: none;\"/><path class=\"link\" marker-end=\"\" d=\"M926.6666666666666,265.5, 1106.6666666666667,265.5\" style=\"stroke-width: 0.5; stroke-opacity: 1; stroke: rgb(80, 80, 80); fill: none;\"/><path class=\"link\" marker-end=\"\" d=\"M926.6666666666666,265.5, 1106.6666666666667,305.5\" style=\"stroke-width: 0.5; stroke-opacity: 1; stroke: rgb(80, 80, 80); fill: none;\"/><path class=\"link\" marker-end=\"\" d=\"M926.6666666666666,265.5, 1106.6666666666667,345.5\" style=\"stroke-width: 0.5; stroke-opacity: 1; stroke: rgb(80, 80, 80); fill: none;\"/><path class=\"link\" marker-end=\"\" d=\"M926.6666666666666,265.5, 1106.6666666666667,385.5\" style=\"stroke-width: 0.5; stroke-opacity: 1; stroke: rgb(80, 80, 80); fill: none;\"/><path class=\"link\" marker-end=\"\" d=\"M926.6666666666666,265.5, 1106.6666666666667,425.5\" style=\"stroke-width: 0.5; stroke-opacity: 1; stroke: rgb(80, 80, 80); fill: none;\"/><path class=\"link\" marker-end=\"\" d=\"M926.6666666666666,265.5, 1106.6666666666667,465.5\" style=\"stroke-width: 0.5; stroke-opacity: 1; stroke: rgb(80, 80, 80); fill: none;\"/><path class=\"link\" marker-end=\"\" d=\"M926.6666666666666,265.5, 1106.6666666666667,505.5\" style=\"stroke-width: 0.5; stroke-opacity: 1; stroke: rgb(80, 80, 80); fill: none;\"/><path class=\"link\" marker-end=\"\" d=\"M926.6666666666666,305.5, 1106.6666666666667,145.5\" style=\"stroke-width: 0.5; stroke-opacity: 1; stroke: rgb(80, 80, 80); fill: none;\"/><path class=\"link\" marker-end=\"\" d=\"M926.6666666666666,305.5, 1106.6666666666667,185.5\" style=\"stroke-width: 0.5; stroke-opacity: 1; stroke: rgb(80, 80, 80); fill: none;\"/><path class=\"link\" marker-end=\"\" d=\"M926.6666666666666,305.5, 1106.6666666666667,225.5\" style=\"stroke-width: 0.5; stroke-opacity: 1; stroke: rgb(80, 80, 80); fill: none;\"/><path class=\"link\" marker-end=\"\" d=\"M926.6666666666666,305.5, 1106.6666666666667,265.5\" style=\"stroke-width: 0.5; stroke-opacity: 1; stroke: rgb(80, 80, 80); fill: none;\"/><path class=\"link\" marker-end=\"\" d=\"M926.6666666666666,305.5, 1106.6666666666667,305.5\" style=\"stroke-width: 0.5; stroke-opacity: 1; stroke: rgb(80, 80, 80); fill: none;\"/><path class=\"link\" marker-end=\"\" d=\"M926.6666666666666,305.5, 1106.6666666666667,345.5\" style=\"stroke-width: 0.5; stroke-opacity: 1; stroke: rgb(80, 80, 80); fill: none;\"/><path class=\"link\" marker-end=\"\" d=\"M926.6666666666666,305.5, 1106.6666666666667,385.5\" style=\"stroke-width: 0.5; stroke-opacity: 1; stroke: rgb(80, 80, 80); fill: none;\"/><path class=\"link\" marker-end=\"\" d=\"M926.6666666666666,305.5, 1106.6666666666667,425.5\" style=\"stroke-width: 0.5; stroke-opacity: 1; stroke: rgb(80, 80, 80); fill: none;\"/><path class=\"link\" marker-end=\"\" d=\"M926.6666666666666,305.5, 1106.6666666666667,465.5\" style=\"stroke-width: 0.5; stroke-opacity: 1; stroke: rgb(80, 80, 80); fill: none;\"/><path class=\"link\" marker-end=\"\" d=\"M926.6666666666666,305.5, 1106.6666666666667,505.5\" style=\"stroke-width: 0.5; stroke-opacity: 1; stroke: rgb(80, 80, 80); fill: none;\"/><path class=\"link\" marker-end=\"\" d=\"M926.6666666666666,345.5, 1106.6666666666667,145.5\" style=\"stroke-width: 0.5; stroke-opacity: 1; stroke: rgb(80, 80, 80); fill: none;\"/><path class=\"link\" marker-end=\"\" d=\"M926.6666666666666,345.5, 1106.6666666666667,185.5\" style=\"stroke-width: 0.5; stroke-opacity: 1; stroke: rgb(80, 80, 80); fill: none;\"/><path class=\"link\" marker-end=\"\" d=\"M926.6666666666666,345.5, 1106.6666666666667,225.5\" style=\"stroke-width: 0.5; stroke-opacity: 1; stroke: rgb(80, 80, 80); fill: none;\"/><path class=\"link\" marker-end=\"\" d=\"M926.6666666666666,345.5, 1106.6666666666667,265.5\" style=\"stroke-width: 0.5; stroke-opacity: 1; stroke: rgb(80, 80, 80); fill: none;\"/><path class=\"link\" marker-end=\"\" d=\"M926.6666666666666,345.5, 1106.6666666666667,305.5\" style=\"stroke-width: 0.5; stroke-opacity: 1; stroke: rgb(80, 80, 80); fill: none;\"/><path class=\"link\" marker-end=\"\" d=\"M926.6666666666666,345.5, 1106.6666666666667,345.5\" style=\"stroke-width: 0.5; stroke-opacity: 1; stroke: rgb(80, 80, 80); fill: none;\"/><path class=\"link\" marker-end=\"\" d=\"M926.6666666666666,345.5, 1106.6666666666667,385.5\" style=\"stroke-width: 0.5; stroke-opacity: 1; stroke: rgb(80, 80, 80); fill: none;\"/><path class=\"link\" marker-end=\"\" d=\"M926.6666666666666,345.5, 1106.6666666666667,425.5\" style=\"stroke-width: 0.5; stroke-opacity: 1; stroke: rgb(80, 80, 80); fill: none;\"/><path class=\"link\" marker-end=\"\" d=\"M926.6666666666666,345.5, 1106.6666666666667,465.5\" style=\"stroke-width: 0.5; stroke-opacity: 1; stroke: rgb(80, 80, 80); fill: none;\"/><path class=\"link\" marker-end=\"\" d=\"M926.6666666666666,345.5, 1106.6666666666667,505.5\" style=\"stroke-width: 0.5; stroke-opacity: 1; stroke: rgb(80, 80, 80); fill: none;\"/><path class=\"link\" marker-end=\"\" d=\"M926.6666666666666,385.5, 1106.6666666666667,145.5\" style=\"stroke-width: 0.5; stroke-opacity: 1; stroke: rgb(80, 80, 80); fill: none;\"/><path class=\"link\" marker-end=\"\" d=\"M926.6666666666666,385.5, 1106.6666666666667,185.5\" style=\"stroke-width: 0.5; stroke-opacity: 1; stroke: rgb(80, 80, 80); fill: none;\"/><path class=\"link\" marker-end=\"\" d=\"M926.6666666666666,385.5, 1106.6666666666667,225.5\" style=\"stroke-width: 0.5; stroke-opacity: 1; stroke: rgb(80, 80, 80); fill: none;\"/><path class=\"link\" marker-end=\"\" d=\"M926.6666666666666,385.5, 1106.6666666666667,265.5\" style=\"stroke-width: 0.5; stroke-opacity: 1; stroke: rgb(80, 80, 80); fill: none;\"/><path class=\"link\" marker-end=\"\" d=\"M926.6666666666666,385.5, 1106.6666666666667,305.5\" style=\"stroke-width: 0.5; stroke-opacity: 1; stroke: rgb(80, 80, 80); fill: none;\"/><path class=\"link\" marker-end=\"\" d=\"M926.6666666666666,385.5, 1106.6666666666667,345.5\" style=\"stroke-width: 0.5; stroke-opacity: 1; stroke: rgb(80, 80, 80); fill: none;\"/><path class=\"link\" marker-end=\"\" d=\"M926.6666666666666,385.5, 1106.6666666666667,385.5\" style=\"stroke-width: 0.5; stroke-opacity: 1; stroke: rgb(80, 80, 80); fill: none;\"/><path class=\"link\" marker-end=\"\" d=\"M926.6666666666666,385.5, 1106.6666666666667,425.5\" style=\"stroke-width: 0.5; stroke-opacity: 1; stroke: rgb(80, 80, 80); fill: none;\"/><path class=\"link\" marker-end=\"\" d=\"M926.6666666666666,385.5, 1106.6666666666667,465.5\" style=\"stroke-width: 0.5; stroke-opacity: 1; stroke: rgb(80, 80, 80); fill: none;\"/><path class=\"link\" marker-end=\"\" d=\"M926.6666666666666,385.5, 1106.6666666666667,505.5\" style=\"stroke-width: 0.5; stroke-opacity: 1; stroke: rgb(80, 80, 80); fill: none;\"/><path class=\"link\" marker-end=\"\" d=\"M926.6666666666666,425.5, 1106.6666666666667,145.5\" style=\"stroke-width: 0.5; stroke-opacity: 1; stroke: rgb(80, 80, 80); fill: none;\"/><path class=\"link\" marker-end=\"\" d=\"M926.6666666666666,425.5, 1106.6666666666667,185.5\" style=\"stroke-width: 0.5; stroke-opacity: 1; stroke: rgb(80, 80, 80); fill: none;\"/><path class=\"link\" marker-end=\"\" d=\"M926.6666666666666,425.5, 1106.6666666666667,225.5\" style=\"stroke-width: 0.5; stroke-opacity: 1; stroke: rgb(80, 80, 80); fill: none;\"/><path class=\"link\" marker-end=\"\" d=\"M926.6666666666666,425.5, 1106.6666666666667,265.5\" style=\"stroke-width: 0.5; stroke-opacity: 1; stroke: rgb(80, 80, 80); fill: none;\"/><path class=\"link\" marker-end=\"\" d=\"M926.6666666666666,425.5, 1106.6666666666667,305.5\" style=\"stroke-width: 0.5; stroke-opacity: 1; stroke: rgb(80, 80, 80); fill: none;\"/><path class=\"link\" marker-end=\"\" d=\"M926.6666666666666,425.5, 1106.6666666666667,345.5\" style=\"stroke-width: 0.5; stroke-opacity: 1; stroke: rgb(80, 80, 80); fill: none;\"/><path class=\"link\" marker-end=\"\" d=\"M926.6666666666666,425.5, 1106.6666666666667,385.5\" style=\"stroke-width: 0.5; stroke-opacity: 1; stroke: rgb(80, 80, 80); fill: none;\"/><path class=\"link\" marker-end=\"\" d=\"M926.6666666666666,425.5, 1106.6666666666667,425.5\" style=\"stroke-width: 0.5; stroke-opacity: 1; stroke: rgb(80, 80, 80); fill: none;\"/><path class=\"link\" marker-end=\"\" d=\"M926.6666666666666,425.5, 1106.6666666666667,465.5\" style=\"stroke-width: 0.5; stroke-opacity: 1; stroke: rgb(80, 80, 80); fill: none;\"/><path class=\"link\" marker-end=\"\" d=\"M926.6666666666666,425.5, 1106.6666666666667,505.5\" style=\"stroke-width: 0.5; stroke-opacity: 1; stroke: rgb(80, 80, 80); fill: none;\"/><path class=\"link\" marker-end=\"\" d=\"M926.6666666666666,465.5, 1106.6666666666667,145.5\" style=\"stroke-width: 0.5; stroke-opacity: 1; stroke: rgb(80, 80, 80); fill: none;\"/><path class=\"link\" marker-end=\"\" d=\"M926.6666666666666,465.5, 1106.6666666666667,185.5\" style=\"stroke-width: 0.5; stroke-opacity: 1; stroke: rgb(80, 80, 80); fill: none;\"/><path class=\"link\" marker-end=\"\" d=\"M926.6666666666666,465.5, 1106.6666666666667,225.5\" style=\"stroke-width: 0.5; stroke-opacity: 1; stroke: rgb(80, 80, 80); fill: none;\"/><path class=\"link\" marker-end=\"\" d=\"M926.6666666666666,465.5, 1106.6666666666667,265.5\" style=\"stroke-width: 0.5; stroke-opacity: 1; stroke: rgb(80, 80, 80); fill: none;\"/><path class=\"link\" marker-end=\"\" d=\"M926.6666666666666,465.5, 1106.6666666666667,305.5\" style=\"stroke-width: 0.5; stroke-opacity: 1; stroke: rgb(80, 80, 80); fill: none;\"/><path class=\"link\" marker-end=\"\" d=\"M926.6666666666666,465.5, 1106.6666666666667,345.5\" style=\"stroke-width: 0.5; stroke-opacity: 1; stroke: rgb(80, 80, 80); fill: none;\"/><path class=\"link\" marker-end=\"\" d=\"M926.6666666666666,465.5, 1106.6666666666667,385.5\" style=\"stroke-width: 0.5; stroke-opacity: 1; stroke: rgb(80, 80, 80); fill: none;\"/><path class=\"link\" marker-end=\"\" d=\"M926.6666666666666,465.5, 1106.6666666666667,425.5\" style=\"stroke-width: 0.5; stroke-opacity: 1; stroke: rgb(80, 80, 80); fill: none;\"/><path class=\"link\" marker-end=\"\" d=\"M926.6666666666666,465.5, 1106.6666666666667,465.5\" style=\"stroke-width: 0.5; stroke-opacity: 1; stroke: rgb(80, 80, 80); fill: none;\"/><path class=\"link\" marker-end=\"\" d=\"M926.6666666666666,465.5, 1106.6666666666667,505.5\" style=\"stroke-width: 0.5; stroke-opacity: 1; stroke: rgb(80, 80, 80); fill: none;\"/><path class=\"link\" marker-end=\"\" d=\"M926.6666666666666,505.5, 1106.6666666666667,145.5\" style=\"stroke-width: 0.5; stroke-opacity: 1; stroke: rgb(80, 80, 80); fill: none;\"/><path class=\"link\" marker-end=\"\" d=\"M926.6666666666666,505.5, 1106.6666666666667,185.5\" style=\"stroke-width: 0.5; stroke-opacity: 1; stroke: rgb(80, 80, 80); fill: none;\"/><path class=\"link\" marker-end=\"\" d=\"M926.6666666666666,505.5, 1106.6666666666667,225.5\" style=\"stroke-width: 0.5; stroke-opacity: 1; stroke: rgb(80, 80, 80); fill: none;\"/><path class=\"link\" marker-end=\"\" d=\"M926.6666666666666,505.5, 1106.6666666666667,265.5\" style=\"stroke-width: 0.5; stroke-opacity: 1; stroke: rgb(80, 80, 80); fill: none;\"/><path class=\"link\" marker-end=\"\" d=\"M926.6666666666666,505.5, 1106.6666666666667,305.5\" style=\"stroke-width: 0.5; stroke-opacity: 1; stroke: rgb(80, 80, 80); fill: none;\"/><path class=\"link\" marker-end=\"\" d=\"M926.6666666666666,505.5, 1106.6666666666667,345.5\" style=\"stroke-width: 0.5; stroke-opacity: 1; stroke: rgb(80, 80, 80); fill: none;\"/><path class=\"link\" marker-end=\"\" d=\"M926.6666666666666,505.5, 1106.6666666666667,385.5\" style=\"stroke-width: 0.5; stroke-opacity: 1; stroke: rgb(80, 80, 80); fill: none;\"/><path class=\"link\" marker-end=\"\" d=\"M926.6666666666666,505.5, 1106.6666666666667,425.5\" style=\"stroke-width: 0.5; stroke-opacity: 1; stroke: rgb(80, 80, 80); fill: none;\"/><path class=\"link\" marker-end=\"\" d=\"M926.6666666666666,505.5, 1106.6666666666667,465.5\" style=\"stroke-width: 0.5; stroke-opacity: 1; stroke: rgb(80, 80, 80); fill: none;\"/><path class=\"link\" marker-end=\"\" d=\"M926.6666666666666,505.5, 1106.6666666666667,505.5\" style=\"stroke-width: 0.5; stroke-opacity: 1; stroke: rgb(80, 80, 80); fill: none;\"/><path class=\"link\" marker-end=\"\" d=\"M926.6666666666666,545.5, 1106.6666666666667,145.5\" style=\"stroke-width: 0.5; stroke-opacity: 1; stroke: rgb(80, 80, 80); fill: none;\"/><path class=\"link\" marker-end=\"\" d=\"M926.6666666666666,545.5, 1106.6666666666667,185.5\" style=\"stroke-width: 0.5; stroke-opacity: 1; stroke: rgb(80, 80, 80); fill: none;\"/><path class=\"link\" marker-end=\"\" d=\"M926.6666666666666,545.5, 1106.6666666666667,225.5\" style=\"stroke-width: 0.5; stroke-opacity: 1; stroke: rgb(80, 80, 80); fill: none;\"/><path class=\"link\" marker-end=\"\" d=\"M926.6666666666666,545.5, 1106.6666666666667,265.5\" style=\"stroke-width: 0.5; stroke-opacity: 1; stroke: rgb(80, 80, 80); fill: none;\"/><path class=\"link\" marker-end=\"\" d=\"M926.6666666666666,545.5, 1106.6666666666667,305.5\" style=\"stroke-width: 0.5; stroke-opacity: 1; stroke: rgb(80, 80, 80); fill: none;\"/><path class=\"link\" marker-end=\"\" d=\"M926.6666666666666,545.5, 1106.6666666666667,345.5\" style=\"stroke-width: 0.5; stroke-opacity: 1; stroke: rgb(80, 80, 80); fill: none;\"/><path class=\"link\" marker-end=\"\" d=\"M926.6666666666666,545.5, 1106.6666666666667,385.5\" style=\"stroke-width: 0.5; stroke-opacity: 1; stroke: rgb(80, 80, 80); fill: none;\"/><path class=\"link\" marker-end=\"\" d=\"M926.6666666666666,545.5, 1106.6666666666667,425.5\" style=\"stroke-width: 0.5; stroke-opacity: 1; stroke: rgb(80, 80, 80); fill: none;\"/><path class=\"link\" marker-end=\"\" d=\"M926.6666666666666,545.5, 1106.6666666666667,465.5\" style=\"stroke-width: 0.5; stroke-opacity: 1; stroke: rgb(80, 80, 80); fill: none;\"/><path class=\"link\" marker-end=\"\" d=\"M926.6666666666666,545.5, 1106.6666666666667,505.5\" style=\"stroke-width: 0.5; stroke-opacity: 1; stroke: rgb(80, 80, 80); fill: none;\"/><path class=\"link\" marker-end=\"\" d=\"M926.6666666666666,585.5, 1106.6666666666667,145.5\" style=\"stroke-width: 0.5; stroke-opacity: 1; stroke: rgb(80, 80, 80); fill: none;\"/><path class=\"link\" marker-end=\"\" d=\"M926.6666666666666,585.5, 1106.6666666666667,185.5\" style=\"stroke-width: 0.5; stroke-opacity: 1; stroke: rgb(80, 80, 80); fill: none;\"/><path class=\"link\" marker-end=\"\" d=\"M926.6666666666666,585.5, 1106.6666666666667,225.5\" style=\"stroke-width: 0.5; stroke-opacity: 1; stroke: rgb(80, 80, 80); fill: none;\"/><path class=\"link\" marker-end=\"\" d=\"M926.6666666666666,585.5, 1106.6666666666667,265.5\" style=\"stroke-width: 0.5; stroke-opacity: 1; stroke: rgb(80, 80, 80); fill: none;\"/><path class=\"link\" marker-end=\"\" d=\"M926.6666666666666,585.5, 1106.6666666666667,305.5\" style=\"stroke-width: 0.5; stroke-opacity: 1; stroke: rgb(80, 80, 80); fill: none;\"/><path class=\"link\" marker-end=\"\" d=\"M926.6666666666666,585.5, 1106.6666666666667,345.5\" style=\"stroke-width: 0.5; stroke-opacity: 1; stroke: rgb(80, 80, 80); fill: none;\"/><path class=\"link\" marker-end=\"\" d=\"M926.6666666666666,585.5, 1106.6666666666667,385.5\" style=\"stroke-width: 0.5; stroke-opacity: 1; stroke: rgb(80, 80, 80); fill: none;\"/><path class=\"link\" marker-end=\"\" d=\"M926.6666666666666,585.5, 1106.6666666666667,425.5\" style=\"stroke-width: 0.5; stroke-opacity: 1; stroke: rgb(80, 80, 80); fill: none;\"/><path class=\"link\" marker-end=\"\" d=\"M926.6666666666666,585.5, 1106.6666666666667,465.5\" style=\"stroke-width: 0.5; stroke-opacity: 1; stroke: rgb(80, 80, 80); fill: none;\"/><path class=\"link\" marker-end=\"\" d=\"M926.6666666666666,585.5, 1106.6666666666667,505.5\" style=\"stroke-width: 0.5; stroke-opacity: 1; stroke: rgb(80, 80, 80); fill: none;\"/><path class=\"link\" marker-end=\"\" d=\"M1106.6666666666667,145.5, 1286.6666666666667,445.5\" style=\"stroke-width: 0.5; stroke-opacity: 1; stroke: rgb(80, 80, 80); fill: none;\"/><path class=\"link\" marker-end=\"\" d=\"M1106.6666666666667,185.5, 1286.6666666666667,445.5\" style=\"stroke-width: 0.5; stroke-opacity: 1; stroke: rgb(80, 80, 80); fill: none;\"/><path class=\"link\" marker-end=\"\" d=\"M1106.6666666666667,225.5, 1286.6666666666667,445.5\" style=\"stroke-width: 0.5; stroke-opacity: 1; stroke: rgb(80, 80, 80); fill: none;\"/><path class=\"link\" marker-end=\"\" d=\"M1106.6666666666667,265.5, 1286.6666666666667,445.5\" style=\"stroke-width: 0.5; stroke-opacity: 1; stroke: rgb(80, 80, 80); fill: none;\"/><path class=\"link\" marker-end=\"\" d=\"M1106.6666666666667,305.5, 1286.6666666666667,445.5\" style=\"stroke-width: 0.5; stroke-opacity: 1; stroke: rgb(80, 80, 80); fill: none;\"/><path class=\"link\" marker-end=\"\" d=\"M1106.6666666666667,345.5, 1286.6666666666667,445.5\" style=\"stroke-width: 0.5; stroke-opacity: 1; stroke: rgb(80, 80, 80); fill: none;\"/><path class=\"link\" marker-end=\"\" d=\"M1106.6666666666667,385.5, 1286.6666666666667,445.5\" style=\"stroke-width: 0.5; stroke-opacity: 1; stroke: rgb(80, 80, 80); fill: none;\"/><path class=\"link\" marker-end=\"\" d=\"M1106.6666666666667,425.5, 1286.6666666666667,445.5\" style=\"stroke-width: 0.5; stroke-opacity: 1; stroke: rgb(80, 80, 80); fill: none;\"/><path class=\"link\" marker-end=\"\" d=\"M1106.6666666666667,465.5, 1286.6666666666667,445.5\" style=\"stroke-width: 0.5; stroke-opacity: 1; stroke: rgb(80, 80, 80); fill: none;\"/><path class=\"link\" marker-end=\"\" d=\"M1106.6666666666667,505.5, 1286.6666666666667,445.5\" style=\"stroke-width: 0.5; stroke-opacity: 1; stroke: rgb(80, 80, 80); fill: none;\"/><path class=\"link\" marker-end=\"\" d=\"M746.6666666666666,265.5, 926.6666666666666,625.5\" style=\"stroke-width: 0.5; stroke-opacity: 1; stroke: rgb(80, 80, 80); fill: none;\"/><path class=\"link\" marker-end=\"\" d=\"M746.6666666666666,265.5, 926.6666666666666,665.5\" style=\"stroke-width: 0.5; stroke-opacity: 1; stroke: rgb(80, 80, 80); fill: none;\"/><path class=\"link\" marker-end=\"\" d=\"M746.6666666666666,265.5, 926.6666666666666,705.5\" style=\"stroke-width: 0.5; stroke-opacity: 1; stroke: rgb(80, 80, 80); fill: none;\"/><path class=\"link\" marker-end=\"\" d=\"M746.6666666666666,265.5, 926.6666666666666,745.5\" style=\"stroke-width: 0.5; stroke-opacity: 1; stroke: rgb(80, 80, 80); fill: none;\"/><path class=\"link\" marker-end=\"\" d=\"M746.6666666666666,305.5, 926.6666666666666,625.5\" style=\"stroke-width: 0.5; stroke-opacity: 1; stroke: rgb(80, 80, 80); fill: none;\"/><path class=\"link\" marker-end=\"\" d=\"M746.6666666666666,305.5, 926.6666666666666,665.5\" style=\"stroke-width: 0.5; stroke-opacity: 1; stroke: rgb(80, 80, 80); fill: none;\"/><path class=\"link\" marker-end=\"\" d=\"M746.6666666666666,305.5, 926.6666666666666,705.5\" style=\"stroke-width: 0.5; stroke-opacity: 1; stroke: rgb(80, 80, 80); fill: none;\"/><path class=\"link\" marker-end=\"\" d=\"M746.6666666666666,305.5, 926.6666666666666,745.5\" style=\"stroke-width: 0.5; stroke-opacity: 1; stroke: rgb(80, 80, 80); fill: none;\"/><path class=\"link\" marker-end=\"\" d=\"M746.6666666666666,345.5, 926.6666666666666,625.5\" style=\"stroke-width: 0.5; stroke-opacity: 1; stroke: rgb(80, 80, 80); fill: none;\"/><path class=\"link\" marker-end=\"\" d=\"M746.6666666666666,345.5, 926.6666666666666,665.5\" style=\"stroke-width: 0.5; stroke-opacity: 1; stroke: rgb(80, 80, 80); fill: none;\"/><path class=\"link\" marker-end=\"\" d=\"M746.6666666666666,345.5, 926.6666666666666,705.5\" style=\"stroke-width: 0.5; stroke-opacity: 1; stroke: rgb(80, 80, 80); fill: none;\"/><path class=\"link\" marker-end=\"\" d=\"M746.6666666666666,345.5, 926.6666666666666,745.5\" style=\"stroke-width: 0.5; stroke-opacity: 1; stroke: rgb(80, 80, 80); fill: none;\"/><path class=\"link\" marker-end=\"\" d=\"M746.6666666666666,385.5, 926.6666666666666,625.5\" style=\"stroke-width: 0.5; stroke-opacity: 1; stroke: rgb(80, 80, 80); fill: none;\"/><path class=\"link\" marker-end=\"\" d=\"M746.6666666666666,385.5, 926.6666666666666,665.5\" style=\"stroke-width: 0.5; stroke-opacity: 1; stroke: rgb(80, 80, 80); fill: none;\"/><path class=\"link\" marker-end=\"\" d=\"M746.6666666666666,385.5, 926.6666666666666,705.5\" style=\"stroke-width: 0.5; stroke-opacity: 1; stroke: rgb(80, 80, 80); fill: none;\"/><path class=\"link\" marker-end=\"\" d=\"M746.6666666666666,385.5, 926.6666666666666,745.5\" style=\"stroke-width: 0.5; stroke-opacity: 1; stroke: rgb(80, 80, 80); fill: none;\"/><path class=\"link\" marker-end=\"\" d=\"M746.6666666666666,425.5, 926.6666666666666,625.5\" style=\"stroke-width: 0.5; stroke-opacity: 1; stroke: rgb(80, 80, 80); fill: none;\"/><path class=\"link\" marker-end=\"\" d=\"M746.6666666666666,425.5, 926.6666666666666,665.5\" style=\"stroke-width: 0.5; stroke-opacity: 1; stroke: rgb(80, 80, 80); fill: none;\"/><path class=\"link\" marker-end=\"\" d=\"M746.6666666666666,425.5, 926.6666666666666,705.5\" style=\"stroke-width: 0.5; stroke-opacity: 1; stroke: rgb(80, 80, 80); fill: none;\"/><path class=\"link\" marker-end=\"\" d=\"M746.6666666666666,425.5, 926.6666666666666,745.5\" style=\"stroke-width: 0.5; stroke-opacity: 1; stroke: rgb(80, 80, 80); fill: none;\"/><path class=\"link\" marker-end=\"\" d=\"M746.6666666666666,465.5, 926.6666666666666,625.5\" style=\"stroke-width: 0.5; stroke-opacity: 1; stroke: rgb(80, 80, 80); fill: none;\"/><path class=\"link\" marker-end=\"\" d=\"M746.6666666666666,465.5, 926.6666666666666,665.5\" style=\"stroke-width: 0.5; stroke-opacity: 1; stroke: rgb(80, 80, 80); fill: none;\"/><path class=\"link\" marker-end=\"\" d=\"M746.6666666666666,465.5, 926.6666666666666,705.5\" style=\"stroke-width: 0.5; stroke-opacity: 1; stroke: rgb(80, 80, 80); fill: none;\"/><path class=\"link\" marker-end=\"\" d=\"M746.6666666666666,465.5, 926.6666666666666,745.5\" style=\"stroke-width: 0.5; stroke-opacity: 1; stroke: rgb(80, 80, 80); fill: none;\"/><path class=\"link\" marker-end=\"\" d=\"M746.6666666666666,505.5, 926.6666666666666,625.5\" style=\"stroke-width: 0.5; stroke-opacity: 1; stroke: rgb(80, 80, 80); fill: none;\"/><path class=\"link\" marker-end=\"\" d=\"M746.6666666666666,505.5, 926.6666666666666,665.5\" style=\"stroke-width: 0.5; stroke-opacity: 1; stroke: rgb(80, 80, 80); fill: none;\"/><path class=\"link\" marker-end=\"\" d=\"M746.6666666666666,505.5, 926.6666666666666,705.5\" style=\"stroke-width: 0.5; stroke-opacity: 1; stroke: rgb(80, 80, 80); fill: none;\"/><path class=\"link\" marker-end=\"\" d=\"M746.6666666666666,505.5, 926.6666666666666,745.5\" style=\"stroke-width: 0.5; stroke-opacity: 1; stroke: rgb(80, 80, 80); fill: none;\"/><path class=\"link\" marker-end=\"\" d=\"M746.6666666666666,545.5, 926.6666666666666,625.5\" style=\"stroke-width: 0.5; stroke-opacity: 1; stroke: rgb(80, 80, 80); fill: none;\"/><path class=\"link\" marker-end=\"\" d=\"M746.6666666666666,545.5, 926.6666666666666,665.5\" style=\"stroke-width: 0.5; stroke-opacity: 1; stroke: rgb(80, 80, 80); fill: none;\"/><path class=\"link\" marker-end=\"\" d=\"M746.6666666666666,545.5, 926.6666666666666,705.5\" style=\"stroke-width: 0.5; stroke-opacity: 1; stroke: rgb(80, 80, 80); fill: none;\"/><path class=\"link\" marker-end=\"\" d=\"M746.6666666666666,545.5, 926.6666666666666,745.5\" style=\"stroke-width: 0.5; stroke-opacity: 1; stroke: rgb(80, 80, 80); fill: none;\"/><path class=\"link\" marker-end=\"\" d=\"M746.6666666666666,585.5, 926.6666666666666,625.5\" style=\"stroke-width: 0.5; stroke-opacity: 1; stroke: rgb(80, 80, 80); fill: none;\"/><path class=\"link\" marker-end=\"\" d=\"M746.6666666666666,585.5, 926.6666666666666,665.5\" style=\"stroke-width: 0.5; stroke-opacity: 1; stroke: rgb(80, 80, 80); fill: none;\"/><path class=\"link\" marker-end=\"\" d=\"M746.6666666666666,585.5, 926.6666666666666,705.5\" style=\"stroke-width: 0.5; stroke-opacity: 1; stroke: rgb(80, 80, 80); fill: none;\"/><path class=\"link\" marker-end=\"\" d=\"M746.6666666666666,585.5, 926.6666666666666,745.5\" style=\"stroke-width: 0.5; stroke-opacity: 1; stroke: rgb(80, 80, 80); fill: none;\"/><path class=\"link\" marker-end=\"\" d=\"M746.6666666666666,625.5, 926.6666666666666,625.5\" style=\"stroke-width: 0.5; stroke-opacity: 1; stroke: rgb(80, 80, 80); fill: none;\"/><path class=\"link\" marker-end=\"\" d=\"M746.6666666666666,625.5, 926.6666666666666,665.5\" style=\"stroke-width: 0.5; stroke-opacity: 1; stroke: rgb(80, 80, 80); fill: none;\"/><path class=\"link\" marker-end=\"\" d=\"M746.6666666666666,625.5, 926.6666666666666,705.5\" style=\"stroke-width: 0.5; stroke-opacity: 1; stroke: rgb(80, 80, 80); fill: none;\"/><path class=\"link\" marker-end=\"\" d=\"M746.6666666666666,625.5, 926.6666666666666,745.5\" style=\"stroke-width: 0.5; stroke-opacity: 1; stroke: rgb(80, 80, 80); fill: none;\"/><path class=\"link\" marker-end=\"\" d=\"M926.6666666666666,625.5, 1106.6666666666667,145.5\" style=\"stroke-width: 0.5; stroke-opacity: 1; stroke: rgb(80, 80, 80); fill: none;\"/><path class=\"link\" marker-end=\"\" d=\"M926.6666666666666,625.5, 1106.6666666666667,185.5\" style=\"stroke-width: 0.5; stroke-opacity: 1; stroke: rgb(80, 80, 80); fill: none;\"/><path class=\"link\" marker-end=\"\" d=\"M926.6666666666666,625.5, 1106.6666666666667,225.5\" style=\"stroke-width: 0.5; stroke-opacity: 1; stroke: rgb(80, 80, 80); fill: none;\"/><path class=\"link\" marker-end=\"\" d=\"M926.6666666666666,625.5, 1106.6666666666667,265.5\" style=\"stroke-width: 0.5; stroke-opacity: 1; stroke: rgb(80, 80, 80); fill: none;\"/><path class=\"link\" marker-end=\"\" d=\"M926.6666666666666,625.5, 1106.6666666666667,305.5\" style=\"stroke-width: 0.5; stroke-opacity: 1; stroke: rgb(80, 80, 80); fill: none;\"/><path class=\"link\" marker-end=\"\" d=\"M926.6666666666666,625.5, 1106.6666666666667,345.5\" style=\"stroke-width: 0.5; stroke-opacity: 1; stroke: rgb(80, 80, 80); fill: none;\"/><path class=\"link\" marker-end=\"\" d=\"M926.6666666666666,625.5, 1106.6666666666667,385.5\" style=\"stroke-width: 0.5; stroke-opacity: 1; stroke: rgb(80, 80, 80); fill: none;\"/><path class=\"link\" marker-end=\"\" d=\"M926.6666666666666,625.5, 1106.6666666666667,425.5\" style=\"stroke-width: 0.5; stroke-opacity: 1; stroke: rgb(80, 80, 80); fill: none;\"/><path class=\"link\" marker-end=\"\" d=\"M926.6666666666666,625.5, 1106.6666666666667,465.5\" style=\"stroke-width: 0.5; stroke-opacity: 1; stroke: rgb(80, 80, 80); fill: none;\"/><path class=\"link\" marker-end=\"\" d=\"M926.6666666666666,625.5, 1106.6666666666667,505.5\" style=\"stroke-width: 0.5; stroke-opacity: 1; stroke: rgb(80, 80, 80); fill: none;\"/><path class=\"link\" marker-end=\"\" d=\"M926.6666666666666,665.5, 1106.6666666666667,145.5\" style=\"stroke-width: 0.5; stroke-opacity: 1; stroke: rgb(80, 80, 80); fill: none;\"/><path class=\"link\" marker-end=\"\" d=\"M926.6666666666666,665.5, 1106.6666666666667,185.5\" style=\"stroke-width: 0.5; stroke-opacity: 1; stroke: rgb(80, 80, 80); fill: none;\"/><path class=\"link\" marker-end=\"\" d=\"M926.6666666666666,665.5, 1106.6666666666667,225.5\" style=\"stroke-width: 0.5; stroke-opacity: 1; stroke: rgb(80, 80, 80); fill: none;\"/><path class=\"link\" marker-end=\"\" d=\"M926.6666666666666,665.5, 1106.6666666666667,265.5\" style=\"stroke-width: 0.5; stroke-opacity: 1; stroke: rgb(80, 80, 80); fill: none;\"/><path class=\"link\" marker-end=\"\" d=\"M926.6666666666666,665.5, 1106.6666666666667,305.5\" style=\"stroke-width: 0.5; stroke-opacity: 1; stroke: rgb(80, 80, 80); fill: none;\"/><path class=\"link\" marker-end=\"\" d=\"M926.6666666666666,665.5, 1106.6666666666667,345.5\" style=\"stroke-width: 0.5; stroke-opacity: 1; stroke: rgb(80, 80, 80); fill: none;\"/><path class=\"link\" marker-end=\"\" d=\"M926.6666666666666,665.5, 1106.6666666666667,385.5\" style=\"stroke-width: 0.5; stroke-opacity: 1; stroke: rgb(80, 80, 80); fill: none;\"/><path class=\"link\" marker-end=\"\" d=\"M926.6666666666666,665.5, 1106.6666666666667,425.5\" style=\"stroke-width: 0.5; stroke-opacity: 1; stroke: rgb(80, 80, 80); fill: none;\"/><path class=\"link\" marker-end=\"\" d=\"M926.6666666666666,665.5, 1106.6666666666667,465.5\" style=\"stroke-width: 0.5; stroke-opacity: 1; stroke: rgb(80, 80, 80); fill: none;\"/><path class=\"link\" marker-end=\"\" d=\"M926.6666666666666,665.5, 1106.6666666666667,505.5\" style=\"stroke-width: 0.5; stroke-opacity: 1; stroke: rgb(80, 80, 80); fill: none;\"/><path class=\"link\" marker-end=\"\" d=\"M926.6666666666666,705.5, 1106.6666666666667,145.5\" style=\"stroke-width: 0.5; stroke-opacity: 1; stroke: rgb(80, 80, 80); fill: none;\"/><path class=\"link\" marker-end=\"\" d=\"M926.6666666666666,705.5, 1106.6666666666667,185.5\" style=\"stroke-width: 0.5; stroke-opacity: 1; stroke: rgb(80, 80, 80); fill: none;\"/><path class=\"link\" marker-end=\"\" d=\"M926.6666666666666,705.5, 1106.6666666666667,225.5\" style=\"stroke-width: 0.5; stroke-opacity: 1; stroke: rgb(80, 80, 80); fill: none;\"/><path class=\"link\" marker-end=\"\" d=\"M926.6666666666666,705.5, 1106.6666666666667,265.5\" style=\"stroke-width: 0.5; stroke-opacity: 1; stroke: rgb(80, 80, 80); fill: none;\"/><path class=\"link\" marker-end=\"\" d=\"M926.6666666666666,705.5, 1106.6666666666667,305.5\" style=\"stroke-width: 0.5; stroke-opacity: 1; stroke: rgb(80, 80, 80); fill: none;\"/><path class=\"link\" marker-end=\"\" d=\"M926.6666666666666,705.5, 1106.6666666666667,345.5\" style=\"stroke-width: 0.5; stroke-opacity: 1; stroke: rgb(80, 80, 80); fill: none;\"/><path class=\"link\" marker-end=\"\" d=\"M926.6666666666666,705.5, 1106.6666666666667,385.5\" style=\"stroke-width: 0.5; stroke-opacity: 1; stroke: rgb(80, 80, 80); fill: none;\"/><path class=\"link\" marker-end=\"\" d=\"M926.6666666666666,705.5, 1106.6666666666667,425.5\" style=\"stroke-width: 0.5; stroke-opacity: 1; stroke: rgb(80, 80, 80); fill: none;\"/><path class=\"link\" marker-end=\"\" d=\"M926.6666666666666,705.5, 1106.6666666666667,465.5\" style=\"stroke-width: 0.5; stroke-opacity: 1; stroke: rgb(80, 80, 80); fill: none;\"/><path class=\"link\" marker-end=\"\" d=\"M926.6666666666666,705.5, 1106.6666666666667,505.5\" style=\"stroke-width: 0.5; stroke-opacity: 1; stroke: rgb(80, 80, 80); fill: none;\"/><path class=\"link\" marker-end=\"\" d=\"M926.6666666666666,745.5, 1106.6666666666667,145.5\" style=\"stroke-width: 0.5; stroke-opacity: 1; stroke: rgb(80, 80, 80); fill: none;\"/><path class=\"link\" marker-end=\"\" d=\"M926.6666666666666,745.5, 1106.6666666666667,185.5\" style=\"stroke-width: 0.5; stroke-opacity: 1; stroke: rgb(80, 80, 80); fill: none;\"/><path class=\"link\" marker-end=\"\" d=\"M926.6666666666666,745.5, 1106.6666666666667,225.5\" style=\"stroke-width: 0.5; stroke-opacity: 1; stroke: rgb(80, 80, 80); fill: none;\"/><path class=\"link\" marker-end=\"\" d=\"M926.6666666666666,745.5, 1106.6666666666667,265.5\" style=\"stroke-width: 0.5; stroke-opacity: 1; stroke: rgb(80, 80, 80); fill: none;\"/><path class=\"link\" marker-end=\"\" d=\"M926.6666666666666,745.5, 1106.6666666666667,305.5\" style=\"stroke-width: 0.5; stroke-opacity: 1; stroke: rgb(80, 80, 80); fill: none;\"/><path class=\"link\" marker-end=\"\" d=\"M926.6666666666666,745.5, 1106.6666666666667,345.5\" style=\"stroke-width: 0.5; stroke-opacity: 1; stroke: rgb(80, 80, 80); fill: none;\"/><path class=\"link\" marker-end=\"\" d=\"M926.6666666666666,745.5, 1106.6666666666667,385.5\" style=\"stroke-width: 0.5; stroke-opacity: 1; stroke: rgb(80, 80, 80); fill: none;\"/><path class=\"link\" marker-end=\"\" d=\"M926.6666666666666,745.5, 1106.6666666666667,425.5\" style=\"stroke-width: 0.5; stroke-opacity: 1; stroke: rgb(80, 80, 80); fill: none;\"/><path class=\"link\" marker-end=\"\" d=\"M926.6666666666666,745.5, 1106.6666666666667,465.5\" style=\"stroke-width: 0.5; stroke-opacity: 1; stroke: rgb(80, 80, 80); fill: none;\"/><path class=\"link\" marker-end=\"\" d=\"M926.6666666666666,745.5, 1106.6666666666667,505.5\" style=\"stroke-width: 0.5; stroke-opacity: 1; stroke: rgb(80, 80, 80); fill: none;\"/><path class=\"link\" marker-end=\"\" d=\"M926.6666666666666,145.5, 1106.6666666666667,545.5\" style=\"stroke-width: 0.5; stroke-opacity: 1; stroke: rgb(80, 80, 80); fill: none;\"/><path class=\"link\" marker-end=\"\" d=\"M926.6666666666666,145.5, 1106.6666666666667,585.5\" style=\"stroke-width: 0.5; stroke-opacity: 1; stroke: rgb(80, 80, 80); fill: none;\"/><path class=\"link\" marker-end=\"\" d=\"M926.6666666666666,145.5, 1106.6666666666667,625.5\" style=\"stroke-width: 0.5; stroke-opacity: 1; stroke: rgb(80, 80, 80); fill: none;\"/><path class=\"link\" marker-end=\"\" d=\"M926.6666666666666,145.5, 1106.6666666666667,665.5\" style=\"stroke-width: 0.5; stroke-opacity: 1; stroke: rgb(80, 80, 80); fill: none;\"/><path class=\"link\" marker-end=\"\" d=\"M926.6666666666666,145.5, 1106.6666666666667,705.5\" style=\"stroke-width: 0.5; stroke-opacity: 1; stroke: rgb(80, 80, 80); fill: none;\"/><path class=\"link\" marker-end=\"\" d=\"M926.6666666666666,145.5, 1106.6666666666667,745.5\" style=\"stroke-width: 0.5; stroke-opacity: 1; stroke: rgb(80, 80, 80); fill: none;\"/><path class=\"link\" marker-end=\"\" d=\"M926.6666666666666,185.5, 1106.6666666666667,545.5\" style=\"stroke-width: 0.5; stroke-opacity: 1; stroke: rgb(80, 80, 80); fill: none;\"/><path class=\"link\" marker-end=\"\" d=\"M926.6666666666666,185.5, 1106.6666666666667,585.5\" style=\"stroke-width: 0.5; stroke-opacity: 1; stroke: rgb(80, 80, 80); fill: none;\"/><path class=\"link\" marker-end=\"\" d=\"M926.6666666666666,185.5, 1106.6666666666667,625.5\" style=\"stroke-width: 0.5; stroke-opacity: 1; stroke: rgb(80, 80, 80); fill: none;\"/><path class=\"link\" marker-end=\"\" d=\"M926.6666666666666,185.5, 1106.6666666666667,665.5\" style=\"stroke-width: 0.5; stroke-opacity: 1; stroke: rgb(80, 80, 80); fill: none;\"/><path class=\"link\" marker-end=\"\" d=\"M926.6666666666666,185.5, 1106.6666666666667,705.5\" style=\"stroke-width: 0.5; stroke-opacity: 1; stroke: rgb(80, 80, 80); fill: none;\"/><path class=\"link\" marker-end=\"\" d=\"M926.6666666666666,185.5, 1106.6666666666667,745.5\" style=\"stroke-width: 0.5; stroke-opacity: 1; stroke: rgb(80, 80, 80); fill: none;\"/><path class=\"link\" marker-end=\"\" d=\"M926.6666666666666,225.5, 1106.6666666666667,545.5\" style=\"stroke-width: 0.5; stroke-opacity: 1; stroke: rgb(80, 80, 80); fill: none;\"/><path class=\"link\" marker-end=\"\" d=\"M926.6666666666666,225.5, 1106.6666666666667,585.5\" style=\"stroke-width: 0.5; stroke-opacity: 1; stroke: rgb(80, 80, 80); fill: none;\"/><path class=\"link\" marker-end=\"\" d=\"M926.6666666666666,225.5, 1106.6666666666667,625.5\" style=\"stroke-width: 0.5; stroke-opacity: 1; stroke: rgb(80, 80, 80); fill: none;\"/><path class=\"link\" marker-end=\"\" d=\"M926.6666666666666,225.5, 1106.6666666666667,665.5\" style=\"stroke-width: 0.5; stroke-opacity: 1; stroke: rgb(80, 80, 80); fill: none;\"/><path class=\"link\" marker-end=\"\" d=\"M926.6666666666666,225.5, 1106.6666666666667,705.5\" style=\"stroke-width: 0.5; stroke-opacity: 1; stroke: rgb(80, 80, 80); fill: none;\"/><path class=\"link\" marker-end=\"\" d=\"M926.6666666666666,225.5, 1106.6666666666667,745.5\" style=\"stroke-width: 0.5; stroke-opacity: 1; stroke: rgb(80, 80, 80); fill: none;\"/><path class=\"link\" marker-end=\"\" d=\"M926.6666666666666,265.5, 1106.6666666666667,545.5\" style=\"stroke-width: 0.5; stroke-opacity: 1; stroke: rgb(80, 80, 80); fill: none;\"/><path class=\"link\" marker-end=\"\" d=\"M926.6666666666666,265.5, 1106.6666666666667,585.5\" style=\"stroke-width: 0.5; stroke-opacity: 1; stroke: rgb(80, 80, 80); fill: none;\"/><path class=\"link\" marker-end=\"\" d=\"M926.6666666666666,265.5, 1106.6666666666667,625.5\" style=\"stroke-width: 0.5; stroke-opacity: 1; stroke: rgb(80, 80, 80); fill: none;\"/><path class=\"link\" marker-end=\"\" d=\"M926.6666666666666,265.5, 1106.6666666666667,665.5\" style=\"stroke-width: 0.5; stroke-opacity: 1; stroke: rgb(80, 80, 80); fill: none;\"/><path class=\"link\" marker-end=\"\" d=\"M926.6666666666666,265.5, 1106.6666666666667,705.5\" style=\"stroke-width: 0.5; stroke-opacity: 1; stroke: rgb(80, 80, 80); fill: none;\"/><path class=\"link\" marker-end=\"\" d=\"M926.6666666666666,265.5, 1106.6666666666667,745.5\" style=\"stroke-width: 0.5; stroke-opacity: 1; stroke: rgb(80, 80, 80); fill: none;\"/><path class=\"link\" marker-end=\"\" d=\"M926.6666666666666,305.5, 1106.6666666666667,545.5\" style=\"stroke-width: 0.5; stroke-opacity: 1; stroke: rgb(80, 80, 80); fill: none;\"/><path class=\"link\" marker-end=\"\" d=\"M926.6666666666666,305.5, 1106.6666666666667,585.5\" style=\"stroke-width: 0.5; stroke-opacity: 1; stroke: rgb(80, 80, 80); fill: none;\"/><path class=\"link\" marker-end=\"\" d=\"M926.6666666666666,305.5, 1106.6666666666667,625.5\" style=\"stroke-width: 0.5; stroke-opacity: 1; stroke: rgb(80, 80, 80); fill: none;\"/><path class=\"link\" marker-end=\"\" d=\"M926.6666666666666,305.5, 1106.6666666666667,665.5\" style=\"stroke-width: 0.5; stroke-opacity: 1; stroke: rgb(80, 80, 80); fill: none;\"/><path class=\"link\" marker-end=\"\" d=\"M926.6666666666666,305.5, 1106.6666666666667,705.5\" style=\"stroke-width: 0.5; stroke-opacity: 1; stroke: rgb(80, 80, 80); fill: none;\"/><path class=\"link\" marker-end=\"\" d=\"M926.6666666666666,305.5, 1106.6666666666667,745.5\" style=\"stroke-width: 0.5; stroke-opacity: 1; stroke: rgb(80, 80, 80); fill: none;\"/><path class=\"link\" marker-end=\"\" d=\"M926.6666666666666,345.5, 1106.6666666666667,545.5\" style=\"stroke-width: 0.5; stroke-opacity: 1; stroke: rgb(80, 80, 80); fill: none;\"/><path class=\"link\" marker-end=\"\" d=\"M926.6666666666666,345.5, 1106.6666666666667,585.5\" style=\"stroke-width: 0.5; stroke-opacity: 1; stroke: rgb(80, 80, 80); fill: none;\"/><path class=\"link\" marker-end=\"\" d=\"M926.6666666666666,345.5, 1106.6666666666667,625.5\" style=\"stroke-width: 0.5; stroke-opacity: 1; stroke: rgb(80, 80, 80); fill: none;\"/><path class=\"link\" marker-end=\"\" d=\"M926.6666666666666,345.5, 1106.6666666666667,665.5\" style=\"stroke-width: 0.5; stroke-opacity: 1; stroke: rgb(80, 80, 80); fill: none;\"/><path class=\"link\" marker-end=\"\" d=\"M926.6666666666666,345.5, 1106.6666666666667,705.5\" style=\"stroke-width: 0.5; stroke-opacity: 1; stroke: rgb(80, 80, 80); fill: none;\"/><path class=\"link\" marker-end=\"\" d=\"M926.6666666666666,345.5, 1106.6666666666667,745.5\" style=\"stroke-width: 0.5; stroke-opacity: 1; stroke: rgb(80, 80, 80); fill: none;\"/><path class=\"link\" marker-end=\"\" d=\"M926.6666666666666,385.5, 1106.6666666666667,545.5\" style=\"stroke-width: 0.5; stroke-opacity: 1; stroke: rgb(80, 80, 80); fill: none;\"/><path class=\"link\" marker-end=\"\" d=\"M926.6666666666666,385.5, 1106.6666666666667,585.5\" style=\"stroke-width: 0.5; stroke-opacity: 1; stroke: rgb(80, 80, 80); fill: none;\"/><path class=\"link\" marker-end=\"\" d=\"M926.6666666666666,385.5, 1106.6666666666667,625.5\" style=\"stroke-width: 0.5; stroke-opacity: 1; stroke: rgb(80, 80, 80); fill: none;\"/><path class=\"link\" marker-end=\"\" d=\"M926.6666666666666,385.5, 1106.6666666666667,665.5\" style=\"stroke-width: 0.5; stroke-opacity: 1; stroke: rgb(80, 80, 80); fill: none;\"/><path class=\"link\" marker-end=\"\" d=\"M926.6666666666666,385.5, 1106.6666666666667,705.5\" style=\"stroke-width: 0.5; stroke-opacity: 1; stroke: rgb(80, 80, 80); fill: none;\"/><path class=\"link\" marker-end=\"\" d=\"M926.6666666666666,385.5, 1106.6666666666667,745.5\" style=\"stroke-width: 0.5; stroke-opacity: 1; stroke: rgb(80, 80, 80); fill: none;\"/><path class=\"link\" marker-end=\"\" d=\"M926.6666666666666,425.5, 1106.6666666666667,545.5\" style=\"stroke-width: 0.5; stroke-opacity: 1; stroke: rgb(80, 80, 80); fill: none;\"/><path class=\"link\" marker-end=\"\" d=\"M926.6666666666666,425.5, 1106.6666666666667,585.5\" style=\"stroke-width: 0.5; stroke-opacity: 1; stroke: rgb(80, 80, 80); fill: none;\"/><path class=\"link\" marker-end=\"\" d=\"M926.6666666666666,425.5, 1106.6666666666667,625.5\" style=\"stroke-width: 0.5; stroke-opacity: 1; stroke: rgb(80, 80, 80); fill: none;\"/><path class=\"link\" marker-end=\"\" d=\"M926.6666666666666,425.5, 1106.6666666666667,665.5\" style=\"stroke-width: 0.5; stroke-opacity: 1; stroke: rgb(80, 80, 80); fill: none;\"/><path class=\"link\" marker-end=\"\" d=\"M926.6666666666666,425.5, 1106.6666666666667,705.5\" style=\"stroke-width: 0.5; stroke-opacity: 1; stroke: rgb(80, 80, 80); fill: none;\"/><path class=\"link\" marker-end=\"\" d=\"M926.6666666666666,425.5, 1106.6666666666667,745.5\" style=\"stroke-width: 0.5; stroke-opacity: 1; stroke: rgb(80, 80, 80); fill: none;\"/><path class=\"link\" marker-end=\"\" d=\"M926.6666666666666,465.5, 1106.6666666666667,545.5\" style=\"stroke-width: 0.5; stroke-opacity: 1; stroke: rgb(80, 80, 80); fill: none;\"/><path class=\"link\" marker-end=\"\" d=\"M926.6666666666666,465.5, 1106.6666666666667,585.5\" style=\"stroke-width: 0.5; stroke-opacity: 1; stroke: rgb(80, 80, 80); fill: none;\"/><path class=\"link\" marker-end=\"\" d=\"M926.6666666666666,465.5, 1106.6666666666667,625.5\" style=\"stroke-width: 0.5; stroke-opacity: 1; stroke: rgb(80, 80, 80); fill: none;\"/><path class=\"link\" marker-end=\"\" d=\"M926.6666666666666,465.5, 1106.6666666666667,665.5\" style=\"stroke-width: 0.5; stroke-opacity: 1; stroke: rgb(80, 80, 80); fill: none;\"/><path class=\"link\" marker-end=\"\" d=\"M926.6666666666666,465.5, 1106.6666666666667,705.5\" style=\"stroke-width: 0.5; stroke-opacity: 1; stroke: rgb(80, 80, 80); fill: none;\"/><path class=\"link\" marker-end=\"\" d=\"M926.6666666666666,465.5, 1106.6666666666667,745.5\" style=\"stroke-width: 0.5; stroke-opacity: 1; stroke: rgb(80, 80, 80); fill: none;\"/><path class=\"link\" marker-end=\"\" d=\"M926.6666666666666,505.5, 1106.6666666666667,545.5\" style=\"stroke-width: 0.5; stroke-opacity: 1; stroke: rgb(80, 80, 80); fill: none;\"/><path class=\"link\" marker-end=\"\" d=\"M926.6666666666666,505.5, 1106.6666666666667,585.5\" style=\"stroke-width: 0.5; stroke-opacity: 1; stroke: rgb(80, 80, 80); fill: none;\"/><path class=\"link\" marker-end=\"\" d=\"M926.6666666666666,505.5, 1106.6666666666667,625.5\" style=\"stroke-width: 0.5; stroke-opacity: 1; stroke: rgb(80, 80, 80); fill: none;\"/><path class=\"link\" marker-end=\"\" d=\"M926.6666666666666,505.5, 1106.6666666666667,665.5\" style=\"stroke-width: 0.5; stroke-opacity: 1; stroke: rgb(80, 80, 80); fill: none;\"/><path class=\"link\" marker-end=\"\" d=\"M926.6666666666666,505.5, 1106.6666666666667,705.5\" style=\"stroke-width: 0.5; stroke-opacity: 1; stroke: rgb(80, 80, 80); fill: none;\"/><path class=\"link\" marker-end=\"\" d=\"M926.6666666666666,505.5, 1106.6666666666667,745.5\" style=\"stroke-width: 0.5; stroke-opacity: 1; stroke: rgb(80, 80, 80); fill: none;\"/><path class=\"link\" marker-end=\"\" d=\"M926.6666666666666,545.5, 1106.6666666666667,545.5\" style=\"stroke-width: 0.5; stroke-opacity: 1; stroke: rgb(80, 80, 80); fill: none;\"/><path class=\"link\" marker-end=\"\" d=\"M926.6666666666666,545.5, 1106.6666666666667,585.5\" style=\"stroke-width: 0.5; stroke-opacity: 1; stroke: rgb(80, 80, 80); fill: none;\"/><path class=\"link\" marker-end=\"\" d=\"M926.6666666666666,545.5, 1106.6666666666667,625.5\" style=\"stroke-width: 0.5; stroke-opacity: 1; stroke: rgb(80, 80, 80); fill: none;\"/><path class=\"link\" marker-end=\"\" d=\"M926.6666666666666,545.5, 1106.6666666666667,665.5\" style=\"stroke-width: 0.5; stroke-opacity: 1; stroke: rgb(80, 80, 80); fill: none;\"/><path class=\"link\" marker-end=\"\" d=\"M926.6666666666666,545.5, 1106.6666666666667,705.5\" style=\"stroke-width: 0.5; stroke-opacity: 1; stroke: rgb(80, 80, 80); fill: none;\"/><path class=\"link\" marker-end=\"\" d=\"M926.6666666666666,545.5, 1106.6666666666667,745.5\" style=\"stroke-width: 0.5; stroke-opacity: 1; stroke: rgb(80, 80, 80); fill: none;\"/><path class=\"link\" marker-end=\"\" d=\"M926.6666666666666,585.5, 1106.6666666666667,545.5\" style=\"stroke-width: 0.5; stroke-opacity: 1; stroke: rgb(80, 80, 80); fill: none;\"/><path class=\"link\" marker-end=\"\" d=\"M926.6666666666666,585.5, 1106.6666666666667,585.5\" style=\"stroke-width: 0.5; stroke-opacity: 1; stroke: rgb(80, 80, 80); fill: none;\"/><path class=\"link\" marker-end=\"\" d=\"M926.6666666666666,585.5, 1106.6666666666667,625.5\" style=\"stroke-width: 0.5; stroke-opacity: 1; stroke: rgb(80, 80, 80); fill: none;\"/><path class=\"link\" marker-end=\"\" d=\"M926.6666666666666,585.5, 1106.6666666666667,665.5\" style=\"stroke-width: 0.5; stroke-opacity: 1; stroke: rgb(80, 80, 80); fill: none;\"/><path class=\"link\" marker-end=\"\" d=\"M926.6666666666666,585.5, 1106.6666666666667,705.5\" style=\"stroke-width: 0.5; stroke-opacity: 1; stroke: rgb(80, 80, 80); fill: none;\"/><path class=\"link\" marker-end=\"\" d=\"M926.6666666666666,585.5, 1106.6666666666667,745.5\" style=\"stroke-width: 0.5; stroke-opacity: 1; stroke: rgb(80, 80, 80); fill: none;\"/><path class=\"link\" marker-end=\"\" d=\"M926.6666666666666,625.5, 1106.6666666666667,545.5\" style=\"stroke-width: 0.5; stroke-opacity: 1; stroke: rgb(80, 80, 80); fill: none;\"/><path class=\"link\" marker-end=\"\" d=\"M926.6666666666666,625.5, 1106.6666666666667,585.5\" style=\"stroke-width: 0.5; stroke-opacity: 1; stroke: rgb(80, 80, 80); fill: none;\"/><path class=\"link\" marker-end=\"\" d=\"M926.6666666666666,625.5, 1106.6666666666667,625.5\" style=\"stroke-width: 0.5; stroke-opacity: 1; stroke: rgb(80, 80, 80); fill: none;\"/><path class=\"link\" marker-end=\"\" d=\"M926.6666666666666,625.5, 1106.6666666666667,665.5\" style=\"stroke-width: 0.5; stroke-opacity: 1; stroke: rgb(80, 80, 80); fill: none;\"/><path class=\"link\" marker-end=\"\" d=\"M926.6666666666666,625.5, 1106.6666666666667,705.5\" style=\"stroke-width: 0.5; stroke-opacity: 1; stroke: rgb(80, 80, 80); fill: none;\"/><path class=\"link\" marker-end=\"\" d=\"M926.6666666666666,625.5, 1106.6666666666667,745.5\" style=\"stroke-width: 0.5; stroke-opacity: 1; stroke: rgb(80, 80, 80); fill: none;\"/><path class=\"link\" marker-end=\"\" d=\"M926.6666666666666,665.5, 1106.6666666666667,545.5\" style=\"stroke-width: 0.5; stroke-opacity: 1; stroke: rgb(80, 80, 80); fill: none;\"/><path class=\"link\" marker-end=\"\" d=\"M926.6666666666666,665.5, 1106.6666666666667,585.5\" style=\"stroke-width: 0.5; stroke-opacity: 1; stroke: rgb(80, 80, 80); fill: none;\"/><path class=\"link\" marker-end=\"\" d=\"M926.6666666666666,665.5, 1106.6666666666667,625.5\" style=\"stroke-width: 0.5; stroke-opacity: 1; stroke: rgb(80, 80, 80); fill: none;\"/><path class=\"link\" marker-end=\"\" d=\"M926.6666666666666,665.5, 1106.6666666666667,665.5\" style=\"stroke-width: 0.5; stroke-opacity: 1; stroke: rgb(80, 80, 80); fill: none;\"/><path class=\"link\" marker-end=\"\" d=\"M926.6666666666666,665.5, 1106.6666666666667,705.5\" style=\"stroke-width: 0.5; stroke-opacity: 1; stroke: rgb(80, 80, 80); fill: none;\"/><path class=\"link\" marker-end=\"\" d=\"M926.6666666666666,665.5, 1106.6666666666667,745.5\" style=\"stroke-width: 0.5; stroke-opacity: 1; stroke: rgb(80, 80, 80); fill: none;\"/><path class=\"link\" marker-end=\"\" d=\"M926.6666666666666,705.5, 1106.6666666666667,545.5\" style=\"stroke-width: 0.5; stroke-opacity: 1; stroke: rgb(80, 80, 80); fill: none;\"/><path class=\"link\" marker-end=\"\" d=\"M926.6666666666666,705.5, 1106.6666666666667,585.5\" style=\"stroke-width: 0.5; stroke-opacity: 1; stroke: rgb(80, 80, 80); fill: none;\"/><path class=\"link\" marker-end=\"\" d=\"M926.6666666666666,705.5, 1106.6666666666667,625.5\" style=\"stroke-width: 0.5; stroke-opacity: 1; stroke: rgb(80, 80, 80); fill: none;\"/><path class=\"link\" marker-end=\"\" d=\"M926.6666666666666,705.5, 1106.6666666666667,665.5\" style=\"stroke-width: 0.5; stroke-opacity: 1; stroke: rgb(80, 80, 80); fill: none;\"/><path class=\"link\" marker-end=\"\" d=\"M926.6666666666666,705.5, 1106.6666666666667,705.5\" style=\"stroke-width: 0.5; stroke-opacity: 1; stroke: rgb(80, 80, 80); fill: none;\"/><path class=\"link\" marker-end=\"\" d=\"M926.6666666666666,705.5, 1106.6666666666667,745.5\" style=\"stroke-width: 0.5; stroke-opacity: 1; stroke: rgb(80, 80, 80); fill: none;\"/><path class=\"link\" marker-end=\"\" d=\"M926.6666666666666,745.5, 1106.6666666666667,545.5\" style=\"stroke-width: 0.5; stroke-opacity: 1; stroke: rgb(80, 80, 80); fill: none;\"/><path class=\"link\" marker-end=\"\" d=\"M926.6666666666666,745.5, 1106.6666666666667,585.5\" style=\"stroke-width: 0.5; stroke-opacity: 1; stroke: rgb(80, 80, 80); fill: none;\"/><path class=\"link\" marker-end=\"\" d=\"M926.6666666666666,745.5, 1106.6666666666667,625.5\" style=\"stroke-width: 0.5; stroke-opacity: 1; stroke: rgb(80, 80, 80); fill: none;\"/><path class=\"link\" marker-end=\"\" d=\"M926.6666666666666,745.5, 1106.6666666666667,665.5\" style=\"stroke-width: 0.5; stroke-opacity: 1; stroke: rgb(80, 80, 80); fill: none;\"/><path class=\"link\" marker-end=\"\" d=\"M926.6666666666666,745.5, 1106.6666666666667,705.5\" style=\"stroke-width: 0.5; stroke-opacity: 1; stroke: rgb(80, 80, 80); fill: none;\"/><path class=\"link\" marker-end=\"\" d=\"M926.6666666666666,745.5, 1106.6666666666667,745.5\" style=\"stroke-width: 0.5; stroke-opacity: 1; stroke: rgb(80, 80, 80); fill: none;\"/><path class=\"link\" marker-end=\"\" d=\"M1106.6666666666667,545.5, 1286.6666666666667,445.5\" style=\"stroke-width: 0.5; stroke-opacity: 1; stroke: rgb(80, 80, 80); fill: none;\"/><path class=\"link\" marker-end=\"\" d=\"M1106.6666666666667,585.5, 1286.6666666666667,445.5\" style=\"stroke-width: 0.5; stroke-opacity: 1; stroke: rgb(80, 80, 80); fill: none;\"/><path class=\"link\" marker-end=\"\" d=\"M1106.6666666666667,625.5, 1286.6666666666667,445.5\" style=\"stroke-width: 0.5; stroke-opacity: 1; stroke: rgb(80, 80, 80); fill: none;\"/><path class=\"link\" marker-end=\"\" d=\"M1106.6666666666667,665.5, 1286.6666666666667,445.5\" style=\"stroke-width: 0.5; stroke-opacity: 1; stroke: rgb(80, 80, 80); fill: none;\"/><path class=\"link\" marker-end=\"\" d=\"M1106.6666666666667,705.5, 1286.6666666666667,445.5\" style=\"stroke-width: 0.5; stroke-opacity: 1; stroke: rgb(80, 80, 80); fill: none;\"/><path class=\"link\" marker-end=\"\" d=\"M1106.6666666666667,745.5, 1286.6666666666667,445.5\" style=\"stroke-width: 0.5; stroke-opacity: 1; stroke: rgb(80, 80, 80); fill: none;\"/><circle r=\"10\" class=\"node\" id=\"0_0\" cx=\"746.6666666666666\" cy=\"265.5\" style=\"fill: rgb(255, 255, 255); stroke: rgb(51, 51, 51);\"/><circle r=\"10\" class=\"node\" id=\"0_1\" cx=\"746.6666666666666\" cy=\"305.5\" style=\"fill: rgb(255, 255, 255); stroke: rgb(51, 51, 51);\"/><circle r=\"10\" class=\"node\" id=\"0_2\" cx=\"746.6666666666666\" cy=\"345.5\" style=\"fill: rgb(255, 255, 255); stroke: rgb(51, 51, 51);\"/><circle r=\"10\" class=\"node\" id=\"0_3\" cx=\"746.6666666666666\" cy=\"385.5\" style=\"fill: rgb(255, 255, 255); stroke: rgb(51, 51, 51);\"/><circle r=\"10\" class=\"node\" id=\"0_4\" cx=\"746.6666666666666\" cy=\"425.5\" style=\"fill: rgb(255, 255, 255); stroke: rgb(51, 51, 51);\"/><circle r=\"10\" class=\"node\" id=\"0_5\" cx=\"746.6666666666666\" cy=\"465.5\" style=\"fill: rgb(255, 255, 255); stroke: rgb(51, 51, 51);\"/><circle r=\"10\" class=\"node\" id=\"0_6\" cx=\"746.6666666666666\" cy=\"505.5\" style=\"fill: rgb(255, 255, 255); stroke: rgb(51, 51, 51);\"/><circle r=\"10\" class=\"node\" id=\"0_7\" cx=\"746.6666666666666\" cy=\"545.5\" style=\"fill: rgb(255, 255, 255); stroke: rgb(51, 51, 51);\"/><circle r=\"10\" class=\"node\" id=\"0_8\" cx=\"746.6666666666666\" cy=\"585.5\" style=\"fill: rgb(255, 255, 255); stroke: rgb(51, 51, 51);\"/><circle r=\"10\" class=\"node\" id=\"0_9\" cx=\"746.6666666666666\" cy=\"625.5\" style=\"fill: rgb(255, 255, 255); stroke: rgb(51, 51, 51);\"/><circle r=\"10\" class=\"node\" id=\"1_0\" cx=\"926.6666666666666\" cy=\"145.5\" style=\"fill: rgb(255, 255, 255); stroke: rgb(51, 51, 51);\"/><circle r=\"10\" class=\"node\" id=\"1_1\" cx=\"926.6666666666666\" cy=\"185.5\" style=\"fill: rgb(255, 255, 255); stroke: rgb(51, 51, 51);\"/><circle r=\"10\" class=\"node\" id=\"1_2\" cx=\"926.6666666666666\" cy=\"225.5\" style=\"fill: rgb(255, 255, 255); stroke: rgb(51, 51, 51);\"/><circle r=\"10\" class=\"node\" id=\"1_3\" cx=\"926.6666666666666\" cy=\"265.5\" style=\"fill: rgb(255, 255, 255); stroke: rgb(51, 51, 51);\"/><circle r=\"10\" class=\"node\" id=\"1_4\" cx=\"926.6666666666666\" cy=\"305.5\" style=\"fill: rgb(255, 255, 255); stroke: rgb(51, 51, 51);\"/><circle r=\"10\" class=\"node\" id=\"1_5\" cx=\"926.6666666666666\" cy=\"345.5\" style=\"fill: rgb(255, 255, 255); stroke: rgb(51, 51, 51);\"/><circle r=\"10\" class=\"node\" id=\"1_6\" cx=\"926.6666666666666\" cy=\"385.5\" style=\"fill: rgb(255, 255, 255); stroke: rgb(51, 51, 51);\"/><circle r=\"10\" class=\"node\" id=\"1_7\" cx=\"926.6666666666666\" cy=\"425.5\" style=\"fill: rgb(255, 255, 255); stroke: rgb(51, 51, 51);\"/><circle r=\"10\" class=\"node\" id=\"1_8\" cx=\"926.6666666666666\" cy=\"465.5\" style=\"fill: rgb(255, 255, 255); stroke: rgb(51, 51, 51);\"/><circle r=\"10\" class=\"node\" id=\"1_9\" cx=\"926.6666666666666\" cy=\"505.5\" style=\"fill: rgb(255, 255, 255); stroke: rgb(51, 51, 51);\"/><circle r=\"10\" class=\"node\" id=\"1_10\" cx=\"926.6666666666666\" cy=\"545.5\" style=\"fill: rgb(255, 255, 255); stroke: rgb(51, 51, 51);\"/><circle r=\"10\" class=\"node\" id=\"1_11\" cx=\"926.6666666666666\" cy=\"585.5\" style=\"fill: rgb(255, 255, 255); stroke: rgb(51, 51, 51);\"/><circle r=\"10\" class=\"node\" id=\"1_12\" cx=\"926.6666666666666\" cy=\"625.5\" style=\"fill: rgb(255, 255, 255); stroke: rgb(51, 51, 51);\"/><circle r=\"10\" class=\"node\" id=\"1_13\" cx=\"926.6666666666666\" cy=\"665.5\" style=\"fill: rgb(255, 255, 255); stroke: rgb(51, 51, 51);\"/><circle r=\"10\" class=\"node\" id=\"1_14\" cx=\"926.6666666666666\" cy=\"705.5\" style=\"fill: rgb(255, 255, 255); stroke: rgb(51, 51, 51);\"/><circle r=\"10\" class=\"node\" id=\"1_15\" cx=\"926.6666666666666\" cy=\"745.5\" style=\"fill: rgb(255, 255, 255); stroke: rgb(51, 51, 51);\"/><circle r=\"10\" class=\"node\" id=\"2_0\" cx=\"1106.6666666666667\" cy=\"145.5\" style=\"fill: rgb(255, 255, 255); stroke: rgb(51, 51, 51);\"/><circle r=\"10\" class=\"node\" id=\"2_1\" cx=\"1106.6666666666667\" cy=\"185.5\" style=\"fill: rgb(255, 255, 255); stroke: rgb(51, 51, 51);\"/><circle r=\"10\" class=\"node\" id=\"2_2\" cx=\"1106.6666666666667\" cy=\"225.5\" style=\"fill: rgb(255, 255, 255); stroke: rgb(51, 51, 51);\"/><circle r=\"10\" class=\"node\" id=\"2_3\" cx=\"1106.6666666666667\" cy=\"265.5\" style=\"fill: rgb(255, 255, 255); stroke: rgb(51, 51, 51);\"/><circle r=\"10\" class=\"node\" id=\"2_4\" cx=\"1106.6666666666667\" cy=\"305.5\" style=\"fill: rgb(255, 255, 255); stroke: rgb(51, 51, 51);\"/><circle r=\"10\" class=\"node\" id=\"2_5\" cx=\"1106.6666666666667\" cy=\"345.5\" style=\"fill: rgb(255, 255, 255); stroke: rgb(51, 51, 51);\"/><circle r=\"10\" class=\"node\" id=\"2_6\" cx=\"1106.6666666666667\" cy=\"385.5\" style=\"fill: rgb(255, 255, 255); stroke: rgb(51, 51, 51);\"/><circle r=\"10\" class=\"node\" id=\"2_7\" cx=\"1106.6666666666667\" cy=\"425.5\" style=\"fill: rgb(255, 255, 255); stroke: rgb(51, 51, 51);\"/><circle r=\"10\" class=\"node\" id=\"2_8\" cx=\"1106.6666666666667\" cy=\"465.5\" style=\"fill: rgb(255, 255, 255); stroke: rgb(51, 51, 51);\"/><circle r=\"10\" class=\"node\" id=\"2_9\" cx=\"1106.6666666666667\" cy=\"505.5\" style=\"fill: rgb(255, 255, 255); stroke: rgb(51, 51, 51);\"/><circle r=\"10\" class=\"node\" id=\"2_10\" cx=\"1106.6666666666667\" cy=\"545.5\" style=\"fill: rgb(255, 255, 255); stroke: rgb(51, 51, 51);\"/><circle r=\"10\" class=\"node\" id=\"2_11\" cx=\"1106.6666666666667\" cy=\"585.5\" style=\"fill: rgb(255, 255, 255); stroke: rgb(51, 51, 51);\"/><circle r=\"10\" class=\"node\" id=\"2_12\" cx=\"1106.6666666666667\" cy=\"625.5\" style=\"fill: rgb(255, 255, 255); stroke: rgb(51, 51, 51);\"/><circle r=\"10\" class=\"node\" id=\"2_13\" cx=\"1106.6666666666667\" cy=\"665.5\" style=\"fill: rgb(255, 255, 255); stroke: rgb(51, 51, 51);\"/><circle r=\"10\" class=\"node\" id=\"2_14\" cx=\"1106.6666666666667\" cy=\"705.5\" style=\"fill: rgb(255, 255, 255); stroke: rgb(51, 51, 51);\"/><circle r=\"10\" class=\"node\" id=\"2_15\" cx=\"1106.6666666666667\" cy=\"745.5\" style=\"fill: rgb(255, 255, 255); stroke: rgb(51, 51, 51);\"/><circle r=\"10\" class=\"node\" id=\"3_0\" cx=\"1286.6666666666667\" cy=\"445.5\" style=\"fill: rgb(255, 255, 255); stroke: rgb(51, 51, 51);\"/><text class=\"text\" dy=\".35em\" x=\"711.6666666666666\" y=\"785.5\" style=\"font-size: 12px;\">Input Layer ∈ ℝ¹⁰</text><text class=\"text\" dy=\".35em\" x=\"891.6666666666666\" y=\"785.5\" style=\"font-size: 12px;\">Hidden Layer ∈ ℝ¹⁶</text><text class=\"text\" dy=\".35em\" x=\"1071.6666666666667\" y=\"785.5\" style=\"font-size: 12px;\">Hidden Layer ∈ ℝ¹⁶</text><text class=\"text\" dy=\".35em\" x=\"1251.6666666666667\" y=\"785.5\" style=\"font-size: 12px;\">Output Layer ∈ ℝ¹</text></g><defs><marker id=\"arrow\" viewBox=\"0 -5 10 10\" markerWidth=\"7\" markerHeight=\"7\" orient=\"auto\" refX=\"40\"><path d=\"M0,-5L10,0L0,5\" style=\"stroke: rgb(80, 80, 80); fill: none;\"/></marker></defs></svg>"
      ],
      "text/plain": [
       "<IPython.core.display.SVG object>"
      ]
     },
     "metadata": {},
     "output_type": "display_data"
    }
   ],
   "source": [
    "from IPython.display import SVG, display\n",
    "\n",
    "# Resmi notebook içinde göstermek\n",
    "file_path = \"nn.svg\"  # Resim dosyasının yolu\n",
    "display(SVG(file_path))\n"
   ]
  },
  {
   "cell_type": "code",
   "execution_count": null,
   "id": "fb5ce6e1-cb3b-4435-8ea2-f6d021a7d5c2",
   "metadata": {},
   "outputs": [],
   "source": []
  },
  {
   "cell_type": "code",
   "execution_count": null,
   "id": "a9eb24d6-20c3-4d1b-8e20-cfd0653417c3",
   "metadata": {},
   "outputs": [],
   "source": []
  },
  {
   "cell_type": "code",
   "execution_count": null,
   "id": "33e48c27-e802-44ba-94cf-1753a55da988",
   "metadata": {},
   "outputs": [],
   "source": []
  },
  {
   "cell_type": "code",
   "execution_count": null,
   "id": "2959363b-045c-40d0-bed2-4f65fdc4ba4d",
   "metadata": {},
   "outputs": [],
   "source": []
  },
  {
   "cell_type": "code",
   "execution_count": null,
   "id": "d1f083c9-ed8a-4243-93db-fdb1c6711cbe",
   "metadata": {},
   "outputs": [],
   "source": []
  },
  {
   "cell_type": "code",
   "execution_count": null,
   "id": "6d07d611-5c79-4988-84bc-89dc26d6b277",
   "metadata": {},
   "outputs": [],
   "source": []
  },
  {
   "cell_type": "code",
   "execution_count": null,
   "id": "76777b7c-fa27-4f4c-a95b-f1360685b5c3",
   "metadata": {},
   "outputs": [],
   "source": []
  },
  {
   "cell_type": "code",
   "execution_count": null,
   "id": "85b5ea51-659e-4343-9c0b-cce0264e343a",
   "metadata": {},
   "outputs": [],
   "source": []
  },
  {
   "cell_type": "markdown",
   "id": "2081214a-b492-4f94-a64f-0c578708e370",
   "metadata": {},
   "source": [
    "## Herhangi Bir Veriden Veri Kümesi Oluşturmak\n",
    "Problemi incelemek için üretilen veri veya elinizdeki herhangi bir veriyi Pytorch ile kullanmak için torch.utils.data.Dataset formatına dönüştürmeniz gerekmektedir. Verileri tutacak sınıf Dataset sınıfından türetilmelidir. Temel olarak bir dataset sınıfının __len__ ve __getitem__ fonksiyonlarını yeniden tanımlamak yeterlidir. Veri kümesinin torch ile işlenebilmesi için boyutunun __len__ fonksiyonu ile hesaplanabiliyor olması gerekir. Ayrıca veri kümesinden herhangi bir eleman __getitem__ fonksiyonu ile çekilebilir. Bu fonksiyon argüman olarak bir index alır ve veri kümesinde bu indexte bulunan veriyi döner. Aşağıdaki örnekte veri giriş ve çıkış şeklinde dönülmüştür."
   ]
  },
  {
   "cell_type": "code",
   "execution_count": null,
   "id": "92390d2c-cf63-41c9-a52e-9f604aa0742c",
   "metadata": {},
   "outputs": [],
   "source": []
  },
  {
   "cell_type": "code",
   "execution_count": 14,
   "id": "7973c7e7-a3a5-440a-aada-40d70c2370fd",
   "metadata": {},
   "outputs": [
    {
     "ename": "NameError",
     "evalue": "name 't' is not defined",
     "output_type": "error",
     "traceback": [
      "\u001b[1;31m---------------------------------------------------------------------------\u001b[0m",
      "\u001b[1;31mNameError\u001b[0m                                 Traceback (most recent call last)",
      "Cell \u001b[1;32mIn[14], line 15\u001b[0m\n\u001b[0;32m     12\u001b[0m     \u001b[38;5;28;01mdef\u001b[39;00m \u001b[38;5;21m__getitem__\u001b[39m(\u001b[38;5;28mself\u001b[39m, idx):\n\u001b[0;32m     13\u001b[0m         \u001b[38;5;28;01mreturn\u001b[39;00m \u001b[38;5;28mself\u001b[39m\u001b[38;5;241m.\u001b[39mx[idx], \u001b[38;5;28mself\u001b[39m\u001b[38;5;241m.\u001b[39my[idx]\n\u001b[1;32m---> 15\u001b[0m x2_dataset \u001b[38;5;241m=\u001b[39m SquareDataset(t, y)\n\u001b[0;32m     16\u001b[0m train_loader \u001b[38;5;241m=\u001b[39m torch\u001b[38;5;241m.\u001b[39mutils\u001b[38;5;241m.\u001b[39mdata\u001b[38;5;241m.\u001b[39mDataLoader(x2_dataset, batch_size\u001b[38;5;241m=\u001b[39m\u001b[38;5;241m20\u001b[39m, shuffle\u001b[38;5;241m=\u001b[39m\u001b[38;5;28;01mTrue\u001b[39;00m)\n\u001b[0;32m     17\u001b[0m \u001b[38;5;28mprint\u001b[39m(x2_dataset\u001b[38;5;241m.\u001b[39m\u001b[38;5;21m__len__\u001b[39m())\n",
      "\u001b[1;31mNameError\u001b[0m: name 't' is not defined"
     ]
    }
   ],
   "source": [
    "import torch\n",
    "from torch.utils.data import Dataset\n",
    "\n",
    "class SquareDataset(Dataset):\n",
    "    def __init__(self, x, y):\n",
    "        self.x = torch.from_numpy(x).unsqueeze(1).float()\n",
    "        self.y = torch.from_numpy(y).unsqueeze(1).float()\n",
    "        \n",
    "    def __len__(self):\n",
    "        return len(self.x)\n",
    "    \n",
    "    def __getitem__(self, idx):\n",
    "        return self.x[idx], self.y[idx]\n",
    "\n",
    "x2_dataset = SquareDataset(t, y)\n",
    "train_loader = torch.utils.data.DataLoader(x2_dataset, batch_size=20, shuffle=True)\n",
    "print(x2_dataset.__len__())\n",
    "print(train_loader.__len__())"
   ]
  },
  {
   "cell_type": "markdown",
   "id": "21f630ba-e25a-4447-86d5-2f461d98e538",
   "metadata": {},
   "source": [
    "## Basit bir MLP (Multi Layer Perceptron)"
   ]
  },
  {
   "cell_type": "code",
   "execution_count": null,
   "id": "e654ef8a-844b-4641-a4c9-4b6bff9ea5ea",
   "metadata": {},
   "outputs": [],
   "source": [
    "import torch.nn as nn\n",
    "\n",
    "class Square(nn.Module):\n",
    "    def __init__(self):\n",
    "        super().__init__()\n",
    "        self.layer1 = nn.Sequential(nn.Linear(1, 64),\n",
    "                                    nn.LeakyReLU())\n",
    "        \n",
    "        self.layer2 = nn.Sequential(nn.Linear(64, 1))\n",
    "        \n",
    "    def forward(self, x):\n",
    "        a = self.layer1(x)\n",
    "        b = self.layer2(a)\n",
    "        return b\n",
    "\n",
    "model = Square()    "
   ]
  },
  {
   "cell_type": "markdown",
   "id": "69baeaf1-298e-473f-a5ce-9c9a46264c0d",
   "metadata": {},
   "source": [
    "## Kayıp Fonksiyonu ve Optimizer"
   ]
  },
  {
   "cell_type": "code",
   "execution_count": null,
   "id": "b4a56afb-33bf-4851-8423-bc246fc217cb",
   "metadata": {},
   "outputs": [],
   "source": [
    "loss_fn = torch.nn.MSELoss()\n",
    "optimizer = torch.optim.SGD(model.parameters(), lr=3e-4, momentum=0.9)"
   ]
  },
  {
   "cell_type": "markdown",
   "id": "aa0ecb77-7ff5-46f2-9ff5-dfba6aa3ad1c",
   "metadata": {},
   "source": [
    "## Eğitim Döngüsü"
   ]
  },
  {
   "cell_type": "code",
   "execution_count": null,
   "id": "2db30b51-dc10-4ab4-b135-e2bf5e7e9176",
   "metadata": {},
   "outputs": [],
   "source": [
    "#%% Train\n",
    "loss_hist = []\n",
    "for epoch in range(50):\n",
    "    running_loss = 0.0\n",
    "    for i, data in enumerate(train_loader):\n",
    "            inputs, labels = data\n",
    "            optimizer.zero_grad()\n",
    "            \n",
    "            y = model(inputs)\n",
    "            \n",
    "            e = loss_fn(y, labels)\n",
    "            e.backward()\n",
    "            \n",
    "            optimizer.step()\n",
    "            \n",
    "            running_loss += e.item()\n",
    "            \n",
    "    running_loss = running_loss/10\n",
    "    loss_hist.append(running_loss)\n",
    "\n",
    "\n",
    "pred_y = model(torch.from_numpy(t).float().unsqueeze(1)).detach().numpy()[:,0]\n",
    "plt.plot(t, pred_y, '+')"
   ]
  },
  {
   "cell_type": "code",
   "execution_count": null,
   "id": "434ac740-f4b2-4fb0-9e00-15ae68466863",
   "metadata": {},
   "outputs": [],
   "source": [
    "plt.figure()\n",
    "plt.plot(loss_hist)"
   ]
  }
 ],
 "metadata": {
  "kernelspec": {
   "display_name": "Python 3 (ipykernel)",
   "language": "python",
   "name": "python3"
  },
  "language_info": {
   "codemirror_mode": {
    "name": "ipython",
    "version": 3
   },
   "file_extension": ".py",
   "mimetype": "text/x-python",
   "name": "python",
   "nbconvert_exporter": "python",
   "pygments_lexer": "ipython3",
   "version": "3.12.7"
  }
 },
 "nbformat": 4,
 "nbformat_minor": 5
}
